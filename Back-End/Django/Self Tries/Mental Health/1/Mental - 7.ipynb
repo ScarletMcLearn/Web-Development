{
 "cells": [
  {
   "cell_type": "code",
   "execution_count": 1,
   "metadata": {},
   "outputs": [],
   "source": [
    "import web_scraper, ArticleScraper"
   ]
  },
  {
   "cell_type": "code",
   "execution_count": null,
   "metadata": {},
   "outputs": [],
   "source": [
    "with open('cleaned_data_url.txt', 'r') as f:\n",
    "    data = f.readlines()\n",
    "     \n",
    "    i = 0\n",
    "    for line in data:\n",
    "        i=i+1\n",
    "        print('Processing URL...'+str(i))\n",
    "        print(line)\n",
    "        current_page = web_scraper.soupified_request(line)\n",
    "        \n",
    "        tag_text_list = []\n",
    "\n",
    "        tag_text_list.append(['title', ArticleScraper.get_article_title(current_page)])\n",
    "\n",
    "        body = list(current_page.find('div', {'class' : 'field-item even first last'}))\n",
    "\n",
    "        ArticleScraper.tag_text_list_gen(body, tag_text_list)\n",
    "\n",
    "        title = tag_text_list[0][1]\n",
    "        \n",
    "        contentss = []\n",
    "\n",
    "        for i in range(1, len(tag_text_list)):\n",
    "\n",
    "            tagg = tag_text_list[i][0]\n",
    "            textt = tag_text_list[i][1]\n",
    "\n",
    "            contentss.append(TaggedText(content=textt, text_tag=tagg))\n",
    "            \n",
    "        article_1 = AMA_Article(title=title, contents=contentss, source_url=line)\n",
    "        \n",
    "        article_1.save()\n",
    "        \n",
    "        print('\\nCompleted URL...\\n')\n",
    "        \n",
    "        print('\\nSleeping for 11 secs!\\n')\n",
    "        time.sleep(11)\n",
    "#        \n",
    "        "
   ]
  }
 ],
 "metadata": {
  "kernelspec": {
   "display_name": "Python 3",
   "language": "python",
   "name": "python3"
  },
  "language_info": {
   "codemirror_mode": {
    "name": "ipython",
    "version": 3
   },
   "file_extension": ".py",
   "mimetype": "text/x-python",
   "name": "python",
   "nbconvert_exporter": "python",
   "pygments_lexer": "ipython3",
   "version": "3.6.6"
  }
 },
 "nbformat": 4,
 "nbformat_minor": 2
}
