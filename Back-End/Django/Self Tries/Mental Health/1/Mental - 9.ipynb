{
 "cells": [
  {
   "cell_type": "code",
   "execution_count": 4,
   "metadata": {},
   "outputs": [],
   "source": [
    "import web_scraper, ArticleScraper\n",
    "\n",
    "import json, time"
   ]
  },
  {
   "cell_type": "code",
   "execution_count": 8,
   "metadata": {},
   "outputs": [],
   "source": [
    "with open('cleaned_data_url.txt', 'r') as f:\n",
    "    data = f.readlines()"
   ]
  },
  {
   "cell_type": "code",
   "execution_count": 16,
   "metadata": {},
   "outputs": [],
   "source": [
    "\n",
    "    for j in range(len(data)):\n",
    "            source = data[j]\n",
    "\n",
    "        #     print(source)\n",
    "\n",
    "            pg = web_scraper.soupified_request(source)\n",
    "\n",
    "            body = (pg.find('div', {'class' : 'field-item even first last'}))\n",
    "\n",
    "            img_l = body.find_all('img')\n",
    "\n",
    "\n",
    "            dt = []\n",
    "\n",
    "            for im in img_l:\n",
    "                try:\n",
    "                    dt.append(json.dumps({'img':im['src'], 'style':im['style']}))\n",
    "                except:\n",
    "                    continue\n",
    "\n",
    "            with open('AMA Resources/img'+str(j), 'w') as output_file:\n",
    "                json.dump(dt, output_file)\n",
    "\n",
    "            time.sleep(11)\n",
    "        \n"
   ]
  },
  {
   "cell_type": "code",
   "execution_count": 9,
   "metadata": {},
   "outputs": [
    {
     "data": {
      "text/plain": [
       "167"
      ]
     },
     "execution_count": 9,
     "metadata": {},
     "output_type": "execute_result"
    }
   ],
   "source": [
    "len(data)"
   ]
  },
  {
   "cell_type": "code",
   "execution_count": 12,
   "metadata": {},
   "outputs": [
    {
     "data": {
      "text/plain": [
       "'http://www.mentalhealthamerica.net/conditions/coping-stress-checklist\\n'"
      ]
     },
     "execution_count": 12,
     "metadata": {},
     "output_type": "execute_result"
    }
   ],
   "source": [
    "data[2]"
   ]
  },
  {
   "cell_type": "code",
   "execution_count": null,
   "metadata": {},
   "outputs": [],
   "source": []
  }
 ],
 "metadata": {
  "kernelspec": {
   "display_name": "Python 3",
   "language": "python",
   "name": "python3"
  },
  "language_info": {
   "codemirror_mode": {
    "name": "ipython",
    "version": 3
   },
   "file_extension": ".py",
   "mimetype": "text/x-python",
   "name": "python",
   "nbconvert_exporter": "python",
   "pygments_lexer": "ipython3",
   "version": "3.6.6"
  }
 },
 "nbformat": 4,
 "nbformat_minor": 2
}
