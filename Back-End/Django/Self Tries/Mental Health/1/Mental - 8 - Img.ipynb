{
 "cells": [
  {
   "cell_type": "code",
   "execution_count": 1,
   "metadata": {},
   "outputs": [],
   "source": [
    "import web_scraper, ArticleScraper"
   ]
  },
  {
   "cell_type": "code",
   "execution_count": 2,
   "metadata": {},
   "outputs": [],
   "source": [
    "with open('cleaned_data_url.txt', 'r') as f:\n",
    "    data = f.readlines()\n"
   ]
  },
  {
   "cell_type": "code",
   "execution_count": null,
   "metadata": {},
   "outputs": [],
   "source": [
    "for j in range(3):\n",
    "        source = data[j]\n",
    "\n",
    "    #     print(source)\n",
    "\n",
    "        current_page = web_scraper.soupified_request(source)\n",
    "\n",
    "        tag_text_list = []\n"
   ]
  },
  {
   "cell_type": "code",
   "execution_count": null,
   "metadata": {},
   "outputs": [],
   "source": []
  },
  {
   "cell_type": "code",
   "execution_count": 3,
   "metadata": {},
   "outputs": [],
   "source": [
    "pg = web_scraper.soupified_request('http://www.mentalhealthamerica.net/31-tips-boost-your-mental-health')"
   ]
  },
  {
   "cell_type": "code",
   "execution_count": 27,
   "metadata": {},
   "outputs": [],
   "source": [
    "body = list(pg.find('div', {'class' : 'field-item even first last'}))"
   ]
  },
  {
   "cell_type": "code",
   "execution_count": 30,
   "metadata": {},
   "outputs": [],
   "source": [
    "body = (pg.find('div', {'class' : 'field-item even first last'}))"
   ]
  },
  {
   "cell_type": "code",
   "execution_count": 19,
   "metadata": {},
   "outputs": [
    {
     "data": {
      "text/plain": [
       "list"
      ]
     },
     "execution_count": 19,
     "metadata": {},
     "output_type": "execute_result"
    }
   ],
   "source": [
    "type(body)"
   ]
  },
  {
   "cell_type": "code",
   "execution_count": 20,
   "metadata": {},
   "outputs": [
    {
     "data": {
      "text/plain": [
       "5"
      ]
     },
     "execution_count": 20,
     "metadata": {},
     "output_type": "execute_result"
    }
   ],
   "source": [
    "len(body)"
   ]
  },
  {
   "cell_type": "code",
   "execution_count": 28,
   "metadata": {},
   "outputs": [
    {
     "data": {
      "text/plain": [
       "bs4.element.Tag"
      ]
     },
     "execution_count": 28,
     "metadata": {},
     "output_type": "execute_result"
    }
   ],
   "source": [
    "type(body[3])"
   ]
  },
  {
   "cell_type": "code",
   "execution_count": 29,
   "metadata": {},
   "outputs": [
    {
     "name": "stdout",
     "output_type": "stream",
     "text": [
      "\n",
      "\n",
      "<style type=\"text/css\">\n",
      "<!--/*--><![CDATA[/* ><!--*/\n",
      ".container {\n",
      "    position: relative;\n",
      "    width: 100%;\n",
      "    height: 0;\n",
      "    padding-bottom: 60%;\n",
      "}\n",
      ".video {\n",
      "    position: absolute;\n",
      "    top: 0;\n",
      "    left: 0;\n",
      "    width: 100%;\n",
      "    height: 100%;\n",
      "}\n",
      "\n",
      "/*--><!]]>*/\n",
      "</style>\n",
      "\n",
      "\n",
      "<ol>\n",
      "<li><strong>Track gratitude and achievement with a journal.</strong> Include 3 things you were grateful for and 3 things you were able to accomplish each day.<br/>\n",
      "<img alt=\"Journal\" src=\"http://www.mentalhealthamerica.net/sites/default/files/journal.jpg\" style=\"width: 400px; height: 267px;\"/><br/>\n",
      "\t\tTry the free apps – <a href=\"https://www.happier.com/\">Happier</a> or <a href=\"http://www.gratitudejournal.mobi/\">Attitudes of Gratitude Journal</a> or make your own journal using one of <a href=\"http://craftweekly.com/13-cute-clever-diy-journal-ideas/\">these tutorials</a>.</li>\n",
      "<li><strong>Start your day with a cup of co­ffee.</strong> Coff­ee consumption is linked to lower rates of depression. If you can’t drink coff­ee because of the caff­eine, try another good-for-you drink like green tea. <br/>\n",
      "<img alt=\"smiley coffee\" src=\"http://www.mentalhealthamerica.net/sites/default/files/happy%20coffee.jpg\" style=\"width: 400px; height: 300px;\"/></li>\n",
      "<li>\n",
      "<p><strong>Set up a getaway. </strong>It could be camping with friends or a trip to the tropics. The act of planning a vacation and having something to look forward to can boost your overall happiness for up to 8 weeks!<br/>\n",
      "<img alt=\"sunset\" src=\"http://www.mentalhealthamerica.net/sites/default/files/silhouettes%20at%20lake.jpg\" style=\"width: 400px; height: 300px;\"/></p>\n",
      "</li>\n",
      "<li>\n",
      "<p><strong>Work your strengths.</strong> Do something you're good at to build self-confidence, then tackle a tougher task. <br/>\n",
      "<img alt=\"baby meme\" src=\"http://www.mentalhealthamerica.net/sites/default/files/you%27ve%20got%20this.jpg\" style=\"width: 400px; height: 263px;\"/></p>\n",
      "</li>\n",
      "<li>\n",
      "<p><strong>Keep it cool for a good night's sleep. </strong>The optimal temperature for sleep is between 60˚ and 67˚ Fahrenheit.<br/>\n",
      "<img alt=\"bed\" src=\"http://www.mentalhealthamerica.net/sites/default/files/sleeping%20feet.jpg\" style=\"width: 400px; height: 265px;\"/></p>\n",
      "</li>\n",
      "<li>\n",
      "<p><strong>\"<em>You don’t have to see the whole staircase, just take the first step.</em>\" </strong> -Martin Luther King Jr.<br/>\n",
      "<img alt=\"steps\" src=\"http://www.mentalhealthamerica.net/sites/default/files/stairs.jpg\" style=\"width: 400px; height: 267px;\"/><br/>\n",
      "\t\t\tThink of something in your life you want to improve, and figure out what you can do to take a step in the right direction.</p>\n",
      "</li>\n",
      "<li>\n",
      "<p><strong>Experiment </strong>with a new recipe, write a poem, paint or try a Pinterest project. Creative expression and overall well-being are linked.<br/>\n",
      "<img alt=\"art supplies\" src=\"http://www.mentalhealthamerica.net/sites/default/files/craft%20supplies.jpg\" style=\"width: 400px; height: 265px;\"/></p>\n",
      "</li>\n",
      "<li>\n",
      "<p><strong>Show some love to someone in your life.</strong> Close, quality relationships are key for a happy, healthy life.<br/>\n",
      "<img alt=\"laughing couple\" src=\"http://www.mentalhealthamerica.net/sites/default/files/happy%20aa%20couple.jpg\" style=\"width: 400px; height: 267px;\"/></p>\n",
      "</li>\n",
      "<li>\n",
      "<p><strong>Boost brainpower by treating yourself to a couple pieces of dark chocolate every few days. </strong> The flavanoids, caffeine, and theobromine in chocolate are thought to work together to improve alertness and mental skills. <br/>\n",
      "<img alt=\"chocolate heart gif\" src=\"http://www.mentalhealthamerica.net/sites/default/files/chocolate%20heart.gif\" style=\"width: 240px; height: 320px;\"/><br/>\n",
      "\t\t\tSource: <a href=\"http://www.animated-gifs.eu\">http://www.animated-gifs.eu</a></p>\n",
      "</li>\n",
      "<li>\n",
      "<p><strong>“<em>There is no greater agony than bearing an untold story inside of you.</em>”</strong>  -Maya Angelou<br/>\n",
      "<img alt=\"maya angelou quote\" src=\"http://www.mentalhealthamerica.net/sites/default/files/MHM%202016%20Social%20Media%20Images-Twitter%20Header%203.png\" style=\"width: 600px; height: 200px;\"/><br/>\n",
      "\t\t\tIf you have personal experience with mental illness or recovery, share on Twitter, Instagram and Tumblr with #mentalillnessfeelslike. Check out what other people are saying at <a href=\"http://www.mentalhealthamerica.net/feelslike-coming-soon\">www.mentalhealthamerica.net/feelslike</a></p>\n",
      "</li>\n",
      "<li>\n",
      "<p><strong>Sometimes, we don't need to add new activities to get more pleasure.</strong> We just need to soak up the joy in the ones we've already got. Trying to be optimistic doesn't mean ignoring the uglier sides of life. It just means focusing on the positive as much as possible.</p>\n",
      "<div class=\"container\"><iframe allowfullscreen=\"\" class=\"video\" frameborder=\"0\" id=\"rainbow guy\" name=\"rainbow guy\" scrolling=\"no\" src=\"https://www.youtube.com/embed/OQSNhk5ICTI\"></iframe></div>\n",
      "<br/>\n",
      "\t\tSource: YouTube User Yosemitebear62</li>\n",
      "<li>\n",
      "<p><strong>Feeling anxious?  Take a trip down memory lane and do some coloring </strong>for about 20 minutes to help you clear your mind. Pick a design that's geometric and a little complicated for the best effect.<br/>\n",
      "<img alt=\"color\" src=\"http://www.mentalhealthamerica.net/sites/default/files/coloring.jpg\" style=\"width: 400px; height: 304px;\"/><br/>\n",
      "\t\t\tCheck out hundreds of free printable coloring pages <a href=\"http://www.coloring-pages-adults.com/\">here</a>.</p>\n",
      "</li>\n",
      "<li>\n",
      "<p><strong>Take time to laugh.</strong> Hang out with a funny friend, watch a comedy or check out cute videos online. Laughter helps reduce anxiety.</p>\n",
      "<div class=\"container\"><iframe allowfullscreen=\"\" class=\"video\" frameborder=\"0\" id=\"baby laughing\" name=\"baby laughing\" scrolling=\"no\" src=\"https://www.youtube.com/embed/RP4abiHdQpc\"></iframe></div>\n",
      "<br/>\n",
      "\t\tSource: YouTube User BruBearBaby</li>\n",
      "<li>\n",
      "<p><strong>Go off the grid.</strong> Leave your smart phone at home for a day and disconnect from constant emails, alerts, and other interruptions. Spend time doing something fun with someone face-to-face.<br/>\n",
      "<img alt=\"cell phones\" src=\"http://www.mentalhealthamerica.net/sites/default/files/Drop-Your-Phone-in-the-Basket.jpg\" style=\"width: 400px; height: 533px;\"/></p>\n",
      "</li>\n",
      "<li>\n",
      "<p><strong>Dance around while you do your housework.</strong> Not only will you get chores done, but dancing reduces levels of cortisol (the stress hormone), and increases endorphins (the body's \"feel-good\" chemicals).</p>\n",
      "<div class=\"container\"><iframe allowfullscreen=\"\" class=\"video\" frameborder=\"0\" src=\"http://www.giphy.com/embed/DZu3mnCcmsJKE\"></iframe></div>\n",
      "</li>\n",
      "<li>\n",
      "<p><strong>Go ahead and yawn.</strong> Studies suggest that yawning helps cool the brain and improves alertness and mental efficiency.</p>\n",
      "<div class=\"container\"><iframe allowfullscreen=\"\" class=\"video\" frameborder=\"0\" src=\"http://www.giphy.com/embed/3ornkbEo4MuwPYcISY\"></iframe></div>\n",
      "</li>\n",
      "<li>\n",
      "<p><strong>Relax in a warm bath once a week. </strong>Try adding Epsom salts to soothe aches and pains and help boost magnesium levels, which can be depleted by stress.</p>\n",
      "<div class=\"container\"><iframe allowfullscreen=\"\" class=\"video\" frameborder=\"0\" src=\"https://www.youtube.com/embed/zbLUNsQVgmM\"></iframe></div>\n",
      "</li>\n",
      "<li>\n",
      "<p><strong>Has something been bothering you? Let it all out…on paper.</strong> Writing about upsetting experiences can reduce symptoms of depression.<br/>\n",
      "<img alt=\"journal\" src=\"http://www.mentalhealthamerica.net/sites/default/files/ethnically%20ambiguous%20woman%20writing%20web.jpg\" style=\"width: 400px; height: 400px;\"/></p>\n",
      "</li>\n",
      "<li>\n",
      "<p><strong>Spend some time with a furry friend. </strong>Time with animals lowers the stress hormone - cortisol, and boosts oxytocin - which stimulates feelings of happiness. If you don’t have a pet, hang out with a friend who does or volunteer at a shelter.<br/>\n",
      "<img alt=\"dog\" src=\"http://www.mentalhealthamerica.net/sites/default/files/blissful%20b2.jpg\" style=\"width: 400px; height: 300px;\"/></p>\n",
      "</li>\n",
      "<li>\n",
      "<p><em><strong>“What lies before us and what lies behind us are small matters compared to what lies within us. And when you bring what is within out into the world, miracles happen.”</strong></em><br/>\n",
      "\t\t\t- Henry David Thoreau <br/>\n",
      "<img alt=\"stretch\" src=\"http://www.mentalhealthamerica.net/sites/default/files/sunny%20silhouette%20stretching%20on%20beach%20web.jpg\" style=\"width: 400px; height: 241px;\"/><br/>\n",
      "\t\t\tPractice mindfulness by staying \"in the present.\"  Try <a href=\"http://www.mindful.org/how-to-practice-mindfulness-throughout-your-work-day/#\">these tips</a>. </p>\n",
      "</li>\n",
      "<li>\n",
      "<p><strong>Be a tourist in your own town.</strong> Often times people only explore attractions on trips, but you may be surprised what cool things are in your own backyard.<br/>\n",
      "<img alt=\"tourist\" src=\"http://www.mentalhealthamerica.net/sites/default/files/home%20town%20tourist.jpg\" style=\"width: 400px; height: 300px;\"/></p>\n",
      "</li>\n",
      "<li>\n",
      "<p><strong>Try prepping your lunches or picking out your clothes for the work week.</strong> You'll save some time in the mornings and have a sense of control about the week ahead.<br/>\n",
      "<img alt=\"meal prep\" src=\"http://www.mentalhealthamerica.net/sites/default/files/meal%20prep.jpg\" style=\"height: 400px; width: 400px;\"/><br/>\n",
      "\t\t\tSource: Flickr User <a href=\"https://www.flickr.com/photos/29047966@N05/\">taz+ belly</a></p>\n",
      "</li>\n",
      "<li>\n",
      "<p><strong>Work some omega-3 fatty acids into your diet</strong>–they are linked to decreased rates of depression and schizophrenia among their many benefits. Fish oil supplements work, but eating your omega-3s in foods like wild salmon, flaxseeds or walnuts also helps build healthy gut bacteria.<br/>\n",
      "<img alt=\"fish\" src=\"http://www.mentalhealthamerica.net/sites/default/files/fishoil.jpg\" style=\"width: 400px; height: 313px;\"/></p>\n",
      "</li>\n",
      "<li>\n",
      "<p><strong>Practice forgiveness</strong> - even if it's just forgiving that person who cut you off during your commute. People who forgive have better mental health and report being more satisfied with their lives.<br/>\n",
      "<img alt=\"traffic jam\" src=\"http://www.mentalhealthamerica.net/sites/default/files/TrafficJamFrustration.jpg\" style=\"width: 400px; height: 265px;\"/></p>\n",
      "</li>\n",
      "<li>\n",
      "<p><em><strong>\"What appear to be calamities are often the sources of fortune.\"</strong></em> - Disraeli<br/>\n",
      "\t\t\tTry to find the silver lining in something kind of cruddy that happened recently.<br/>\n",
      "<img alt=\"sky\" src=\"http://www.mentalhealthamerica.net/sites/default/files/silver%20lining.jpg\" style=\"width: 400px; height: 267px;\"/></p>\n",
      "</li>\n",
      "<li>\n",
      "<p><strong>Feeling stressed? Smile. </strong>It may not be the easiest thing to do, but smiling can help to lower your heart rate and calm you down.</p>\n",
      "<div class=\"container\"><iframe allowfullscreen=\"\" class=\"video\" frameborder=\"0\" src=\"http://giphy.com/embed/oDLDbBgf0dkis\"></iframe></div>\n",
      "<br/>\n",
      "\t\tSource: Bukybuh.Tumblr.com</li>\n",
      "<li>\n",
      "<p><strong>Send a thank you note</strong> - not for a material item, but to let someone know why you appreciate them. Written expressions of gratitude are linked to increased happiness.<br/>\n",
      "<img alt=\"golden girls\" src=\"http://www.mentalhealthamerica.net/sites/default/files/thank%20you%20for%20being%20a%20friend.jpg\" style=\"width: 400px; height: 400px;\"/><br/>\n",
      "\t\t\tBuy this one from the <a href=\"https://www.etsy.com/listing/96412991/thank-you-for-being-a-friend-the-golden\">Seas and Peas shop</a> on Etsy.com</p>\n",
      "</li>\n",
      "<li>\n",
      "<p><strong>Do something with friends and family</strong> - have a cookout, go to a park, or play a game. People are 12 times more likely to feel happy on days that they spend 6-7 hours with friends and family.<br/>\n",
      "<img alt=\"bubble\" src=\"http://www.mentalhealthamerica.net/sites/default/files/bubbles%20in%20the%20park.jpg\" style=\"width: 400px; height: 267px;\"/></p>\n",
      "</li>\n",
      "<li>\n",
      "<p><strong>Take 30 minutes to go for a walk in nature</strong> - it could be a stroll through a park, or a hike in the woods. Research shows that being in nature can increase energy levels, reduce depression and boost well-being.<br/>\n",
      "<img alt=\"walk\" src=\"http://www.mentalhealthamerica.net/sites/default/files/3%20people%20of%20different%20ethnicity%20walking%20in%20park%20web.jpg\" style=\"height: 600px; width: 400px;\"/></p>\n",
      "</li>\n",
      "<li>\n",
      "<p><strong>Do your best to enjoy 15 minutes of sunshine</strong>, and apply sunscreen. Sunlight synthesizes Vitamin D, which experts believe is a mood elevator.<br/>\n",
      "<img alt=\"happy lady\" src=\"http://www.mentalhealthamerica.net/sites/default/files/hiking%20in%20the%20sun%20web.jpg\" style=\"width: 400px; height: 266px;\"/></p>\n",
      "</li>\n",
      "<li>\n",
      "<p><em><strong>\"Anyone who has never made a mistake has never tried anything new.\" </strong></em>-Albert Einstein<br/>\n",
      "\t\t\tTry something outside of your comfort zone to make room for adventure and excitement in your life.<br/>\n",
      "<img alt=\"balloons\" src=\"http://www.mentalhealthamerica.net/sites/default/files/hot%20air%20balloon%20at%20night.jpg\" style=\"width: 400px; height: 235px;\"/><br/>\n",
      "\t\t\t </p>\n",
      "</li>\n",
      "</ol>\n",
      "\n",
      "\n"
     ]
    }
   ],
   "source": [
    "for t in body:\n",
    "    print(t)"
   ]
  },
  {
   "cell_type": "code",
   "execution_count": 33,
   "metadata": {},
   "outputs": [],
   "source": [
    "img_l = body.find_all('img')"
   ]
  },
  {
   "cell_type": "code",
   "execution_count": 34,
   "metadata": {},
   "outputs": [
    {
     "data": {
      "text/plain": [
       "<img alt=\"baby meme\" src=\"http://www.mentalhealthamerica.net/sites/default/files/you%27ve%20got%20this.jpg\" style=\"width: 400px; height: 263px;\"/>"
      ]
     },
     "execution_count": 34,
     "metadata": {},
     "output_type": "execute_result"
    }
   ],
   "source": [
    "img_l[3]"
   ]
  },
  {
   "cell_type": "code",
   "execution_count": 35,
   "metadata": {},
   "outputs": [
    {
     "data": {
      "text/plain": [
       "'http://www.mentalhealthamerica.net/sites/default/files/you%27ve%20got%20this.jpg'"
      ]
     },
     "execution_count": 35,
     "metadata": {},
     "output_type": "execute_result"
    }
   ],
   "source": [
    "img_l[3]['src']"
   ]
  },
  {
   "cell_type": "code",
   "execution_count": 36,
   "metadata": {},
   "outputs": [
    {
     "data": {
      "text/plain": [
       "'width: 400px; height: 263px;'"
      ]
     },
     "execution_count": 36,
     "metadata": {},
     "output_type": "execute_result"
    }
   ],
   "source": [
    "img_l[3]['style']"
   ]
  },
  {
   "cell_type": "code",
   "execution_count": 37,
   "metadata": {},
   "outputs": [
    {
     "data": {
      "text/plain": [
       "[<img alt=\"Journal\" src=\"http://www.mentalhealthamerica.net/sites/default/files/journal.jpg\" style=\"width: 400px; height: 267px;\"/>,\n",
       " <img alt=\"smiley coffee\" src=\"http://www.mentalhealthamerica.net/sites/default/files/happy%20coffee.jpg\" style=\"width: 400px; height: 300px;\"/>,\n",
       " <img alt=\"sunset\" src=\"http://www.mentalhealthamerica.net/sites/default/files/silhouettes%20at%20lake.jpg\" style=\"width: 400px; height: 300px;\"/>,\n",
       " <img alt=\"baby meme\" src=\"http://www.mentalhealthamerica.net/sites/default/files/you%27ve%20got%20this.jpg\" style=\"width: 400px; height: 263px;\"/>,\n",
       " <img alt=\"bed\" src=\"http://www.mentalhealthamerica.net/sites/default/files/sleeping%20feet.jpg\" style=\"width: 400px; height: 265px;\"/>,\n",
       " <img alt=\"steps\" src=\"http://www.mentalhealthamerica.net/sites/default/files/stairs.jpg\" style=\"width: 400px; height: 267px;\"/>,\n",
       " <img alt=\"art supplies\" src=\"http://www.mentalhealthamerica.net/sites/default/files/craft%20supplies.jpg\" style=\"width: 400px; height: 265px;\"/>,\n",
       " <img alt=\"laughing couple\" src=\"http://www.mentalhealthamerica.net/sites/default/files/happy%20aa%20couple.jpg\" style=\"width: 400px; height: 267px;\"/>,\n",
       " <img alt=\"chocolate heart gif\" src=\"http://www.mentalhealthamerica.net/sites/default/files/chocolate%20heart.gif\" style=\"width: 240px; height: 320px;\"/>,\n",
       " <img alt=\"maya angelou quote\" src=\"http://www.mentalhealthamerica.net/sites/default/files/MHM%202016%20Social%20Media%20Images-Twitter%20Header%203.png\" style=\"width: 600px; height: 200px;\"/>,\n",
       " <img alt=\"color\" src=\"http://www.mentalhealthamerica.net/sites/default/files/coloring.jpg\" style=\"width: 400px; height: 304px;\"/>,\n",
       " <img alt=\"cell phones\" src=\"http://www.mentalhealthamerica.net/sites/default/files/Drop-Your-Phone-in-the-Basket.jpg\" style=\"width: 400px; height: 533px;\"/>,\n",
       " <img alt=\"journal\" src=\"http://www.mentalhealthamerica.net/sites/default/files/ethnically%20ambiguous%20woman%20writing%20web.jpg\" style=\"width: 400px; height: 400px;\"/>,\n",
       " <img alt=\"dog\" src=\"http://www.mentalhealthamerica.net/sites/default/files/blissful%20b2.jpg\" style=\"width: 400px; height: 300px;\"/>,\n",
       " <img alt=\"stretch\" src=\"http://www.mentalhealthamerica.net/sites/default/files/sunny%20silhouette%20stretching%20on%20beach%20web.jpg\" style=\"width: 400px; height: 241px;\"/>,\n",
       " <img alt=\"tourist\" src=\"http://www.mentalhealthamerica.net/sites/default/files/home%20town%20tourist.jpg\" style=\"width: 400px; height: 300px;\"/>,\n",
       " <img alt=\"meal prep\" src=\"http://www.mentalhealthamerica.net/sites/default/files/meal%20prep.jpg\" style=\"height: 400px; width: 400px;\"/>,\n",
       " <img alt=\"fish\" src=\"http://www.mentalhealthamerica.net/sites/default/files/fishoil.jpg\" style=\"width: 400px; height: 313px;\"/>,\n",
       " <img alt=\"traffic jam\" src=\"http://www.mentalhealthamerica.net/sites/default/files/TrafficJamFrustration.jpg\" style=\"width: 400px; height: 265px;\"/>,\n",
       " <img alt=\"sky\" src=\"http://www.mentalhealthamerica.net/sites/default/files/silver%20lining.jpg\" style=\"width: 400px; height: 267px;\"/>,\n",
       " <img alt=\"golden girls\" src=\"http://www.mentalhealthamerica.net/sites/default/files/thank%20you%20for%20being%20a%20friend.jpg\" style=\"width: 400px; height: 400px;\"/>,\n",
       " <img alt=\"bubble\" src=\"http://www.mentalhealthamerica.net/sites/default/files/bubbles%20in%20the%20park.jpg\" style=\"width: 400px; height: 267px;\"/>,\n",
       " <img alt=\"walk\" src=\"http://www.mentalhealthamerica.net/sites/default/files/3%20people%20of%20different%20ethnicity%20walking%20in%20park%20web.jpg\" style=\"height: 600px; width: 400px;\"/>,\n",
       " <img alt=\"happy lady\" src=\"http://www.mentalhealthamerica.net/sites/default/files/hiking%20in%20the%20sun%20web.jpg\" style=\"width: 400px; height: 266px;\"/>,\n",
       " <img alt=\"balloons\" src=\"http://www.mentalhealthamerica.net/sites/default/files/hot%20air%20balloon%20at%20night.jpg\" style=\"width: 400px; height: 235px;\"/>]"
      ]
     },
     "execution_count": 37,
     "metadata": {},
     "output_type": "execute_result"
    }
   ],
   "source": [
    "img_l"
   ]
  },
  {
   "cell_type": "code",
   "execution_count": null,
   "metadata": {},
   "outputs": [],
   "source": []
  },
  {
   "cell_type": "code",
   "execution_count": 40,
   "metadata": {},
   "outputs": [],
   "source": [
    "import json\n",
    "\n",
    "data = json.dumps({'img':img_l[3]['src'], 'style':img_l[3]['style']})"
   ]
  },
  {
   "cell_type": "code",
   "execution_count": 41,
   "metadata": {},
   "outputs": [],
   "source": [
    "with open('AMA Resources/i1', 'w') as output_file:\n",
    "    json.dump(data, output_file)"
   ]
  },
  {
   "cell_type": "code",
   "execution_count": null,
   "metadata": {},
   "outputs": [],
   "source": []
  }
 ],
 "metadata": {
  "kernelspec": {
   "display_name": "Python 3",
   "language": "python",
   "name": "python3"
  },
  "language_info": {
   "codemirror_mode": {
    "name": "ipython",
    "version": 3
   },
   "file_extension": ".py",
   "mimetype": "text/x-python",
   "name": "python",
   "nbconvert_exporter": "python",
   "pygments_lexer": "ipython3",
   "version": "3.6.6"
  }
 },
 "nbformat": 4,
 "nbformat_minor": 2
}
