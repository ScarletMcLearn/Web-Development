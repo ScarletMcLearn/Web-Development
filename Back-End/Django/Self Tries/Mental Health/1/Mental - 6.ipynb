{
 "cells": [
  {
   "cell_type": "code",
   "execution_count": 1,
   "metadata": {},
   "outputs": [],
   "source": [
    "import web_scraper, ArticleScraper"
   ]
  },
  {
   "cell_type": "code",
   "execution_count": 4,
   "metadata": {},
   "outputs": [],
   "source": [
    "from mongoengine import *\n",
    "import datetime\n",
    "\n",
    "connect('mongoengine_2', host='localhost', port=27017)\n",
    "\n",
    "class TaggedText(EmbeddedDocument):\n",
    "    content = StringField()\n",
    "    text_tag = StringField()\n",
    "    \n",
    "class Author(Document):\n",
    "#     author = StringField(required=True)\n",
    "    name = StringField()\n",
    "    \n",
    "    \n",
    "class AMA_Article(Document):\n",
    "    title = StringField(required=True)\n",
    "    contents = ListField(EmbeddedDocumentField(TaggedText))\n",
    "    author = ReferenceField(Author, reverse_delete_rule=CASCADE)\n",
    "    posted_date = DateTimeField(default=datetime.datetime.now)\n",
    "    published_status = BooleanField(default=False)\n",
    "    source_url = URLField()\n",
    "    source = StringField()\n",
    "\n",
    "    credits = StringField()\n",
    "    tags = ListField(StringField(max_length=30))\n",
    "    img_urls = ListField(URLField())"
   ]
  },
  {
   "cell_type": "code",
   "execution_count": null,
   "metadata": {},
   "outputs": [],
   "source": []
  },
  {
   "cell_type": "code",
   "execution_count": 5,
   "metadata": {},
   "outputs": [],
   "source": [
    "import time"
   ]
  },
  {
   "cell_type": "code",
   "execution_count": 6,
   "metadata": {},
   "outputs": [],
   "source": [
    "# with open('cleaned_data_url.txt', 'r') as f:\n",
    "#     data = f.readlines()\n",
    "     \n",
    "#     i = 0\n",
    "#     for line in data:\n",
    "#         i=i+1\n",
    "#         print('Processing URL...'+str(i))\n",
    "#         print(line)\n",
    "#         current_page = web_scraper.soupified_request(line)\n",
    "        \n",
    "#         tag_text_list = []\n",
    "\n",
    "#         tag_text_list.append(['title', ArticleScraper.get_article_title(current_page)])\n",
    "\n",
    "#         body = list(current_page.find('div', {'class' : 'field-item even first last'}))\n",
    "\n",
    "#         ArticleScraper.tag_text_list_gen(body, tag_text_list)\n",
    "\n",
    "#         title = tag_text_list[0][1]\n",
    "        \n",
    "#         contentss = []\n",
    "\n",
    "#         for i in range(1, len(tag_text_list)):\n",
    "\n",
    "#             tagg = tag_text_list[i][0]\n",
    "#             textt = tag_text_list[i][1]\n",
    "\n",
    "#             contentss.append(TaggedText(content=textt, text_tag=tagg))\n",
    "            \n",
    "#         article_1 = AMA_Article(title=title, contents=contentss, source_url=line)\n",
    "        \n",
    "#         article_1.save()\n",
    "        \n",
    "#         print('\\nCompleted URL...\\n')\n",
    "        \n",
    "#         print('\\nSleeping for 11 secs!\\n')\n",
    "#         time.sleep(11)\n",
    "# #        \n",
    "        "
   ]
  },
  {
   "cell_type": "code",
   "execution_count": 11,
   "metadata": {},
   "outputs": [
    {
     "data": {
      "text/plain": [
       "0"
      ]
     },
     "execution_count": 11,
     "metadata": {},
     "output_type": "execute_result"
    }
   ],
   "source": [
    "len(AMA_Article.objects.all())"
   ]
  },
  {
   "cell_type": "code",
   "execution_count": 12,
   "metadata": {},
   "outputs": [],
   "source": [
    "for _ in AMA_Article.objects.all():\n",
    "    print(_.title)"
   ]
  },
  {
   "cell_type": "code",
   "execution_count": 13,
   "metadata": {},
   "outputs": [
    {
     "ename": "IndexError",
     "evalue": "no such item for Cursor instance",
     "output_type": "error",
     "traceback": [
      "\u001b[0;31m---------------------------------------------------------------------------\u001b[0m",
      "\u001b[0;31mIndexError\u001b[0m                                Traceback (most recent call last)",
      "\u001b[0;32m<ipython-input-13-fa032f307ea3>\u001b[0m in \u001b[0;36m<module>\u001b[0;34m\u001b[0m\n\u001b[0;32m----> 1\u001b[0;31m \u001b[0mAMA_Article\u001b[0m\u001b[0;34m.\u001b[0m\u001b[0mobjects\u001b[0m\u001b[0;34m(\u001b[0m\u001b[0;34m)\u001b[0m\u001b[0;34m[\u001b[0m\u001b[0;36m5\u001b[0m\u001b[0;34m]\u001b[0m\u001b[0;34m.\u001b[0m\u001b[0mcontents\u001b[0m\u001b[0;34m[\u001b[0m\u001b[0;36m0\u001b[0m\u001b[0;34m]\u001b[0m\u001b[0;34m.\u001b[0m\u001b[0mcontent\u001b[0m\u001b[0;34m\u001b[0m\u001b[0m\n\u001b[0m",
      "\u001b[0;32m~/Projects/PyEnvs/venv/venv/lib/python3.6/site-packages/mongoengine/queryset/base.py\u001b[0m in \u001b[0;36m__getitem__\u001b[0;34m(self, key)\u001b[0m\n\u001b[1;32m    192\u001b[0m \u001b[0;34m\u001b[0m\u001b[0m\n\u001b[1;32m    193\u001b[0m             return queryset._document._from_son(\n\u001b[0;32m--> 194\u001b[0;31m                 \u001b[0mqueryset\u001b[0m\u001b[0;34m.\u001b[0m\u001b[0m_cursor\u001b[0m\u001b[0;34m[\u001b[0m\u001b[0mkey\u001b[0m\u001b[0;34m]\u001b[0m\u001b[0;34m,\u001b[0m\u001b[0;34m\u001b[0m\u001b[0m\n\u001b[0m\u001b[1;32m    195\u001b[0m                 \u001b[0m_auto_dereference\u001b[0m\u001b[0;34m=\u001b[0m\u001b[0mself\u001b[0m\u001b[0;34m.\u001b[0m\u001b[0m_auto_dereference\u001b[0m\u001b[0;34m,\u001b[0m\u001b[0;34m\u001b[0m\u001b[0m\n\u001b[1;32m    196\u001b[0m                 \u001b[0monly_fields\u001b[0m\u001b[0;34m=\u001b[0m\u001b[0mself\u001b[0m\u001b[0;34m.\u001b[0m\u001b[0monly_fields\u001b[0m\u001b[0;34m\u001b[0m\u001b[0m\n",
      "\u001b[0;32m~/Projects/PyEnvs/venv/venv/lib/python3.6/site-packages/pymongo/cursor.py\u001b[0m in \u001b[0;36m__getitem__\u001b[0;34m(self, index)\u001b[0m\n\u001b[1;32m    610\u001b[0m             \u001b[0;32mfor\u001b[0m \u001b[0mdoc\u001b[0m \u001b[0;32min\u001b[0m \u001b[0mclone\u001b[0m\u001b[0;34m:\u001b[0m\u001b[0;34m\u001b[0m\u001b[0m\n\u001b[1;32m    611\u001b[0m                 \u001b[0;32mreturn\u001b[0m \u001b[0mdoc\u001b[0m\u001b[0;34m\u001b[0m\u001b[0m\n\u001b[0;32m--> 612\u001b[0;31m             \u001b[0;32mraise\u001b[0m \u001b[0mIndexError\u001b[0m\u001b[0;34m(\u001b[0m\u001b[0;34m\"no such item for Cursor instance\"\u001b[0m\u001b[0;34m)\u001b[0m\u001b[0;34m\u001b[0m\u001b[0m\n\u001b[0m\u001b[1;32m    613\u001b[0m         raise TypeError(\"index %r cannot be applied to Cursor \"\n\u001b[1;32m    614\u001b[0m                         \"instances\" % index)\n",
      "\u001b[0;31mIndexError\u001b[0m: no such item for Cursor instance"
     ]
    }
   ],
   "source": [
    "AMA_Article.objects()[5].contents[0].content"
   ]
  },
  {
   "cell_type": "code",
   "execution_count": 10,
   "metadata": {},
   "outputs": [
    {
     "data": {
      "text/plain": [
       "['AMA_Article',\n",
       " 'ArticleScraper',\n",
       " 'Author',\n",
       " 'BinaryField',\n",
       " 'BooleanField',\n",
       " 'CASCADE',\n",
       " 'CachedReferenceField',\n",
       " 'ComplexDateTimeField',\n",
       " 'DEFAULT_CONNECTION_NAME',\n",
       " 'DENY',\n",
       " 'DO_NOTHING',\n",
       " 'DateField',\n",
       " 'DateTimeField',\n",
       " 'DecimalField',\n",
       " 'DictField',\n",
       " 'Document',\n",
       " 'DoesNotExist',\n",
       " 'DynamicDocument',\n",
       " 'DynamicEmbeddedDocument',\n",
       " 'DynamicField',\n",
       " 'EmailField',\n",
       " 'EmbeddedDocument',\n",
       " 'EmbeddedDocumentField',\n",
       " 'EmbeddedDocumentListField',\n",
       " 'FieldDoesNotExist',\n",
       " 'FileField',\n",
       " 'FloatField',\n",
       " 'GenericEmbeddedDocumentField',\n",
       " 'GenericLazyReferenceField',\n",
       " 'GenericReferenceField',\n",
       " 'GeoJsonBaseField',\n",
       " 'GeoPointField',\n",
       " 'GridFSError',\n",
       " 'GridFSProxy',\n",
       " 'ImageField',\n",
       " 'ImageGridFsProxy',\n",
       " 'ImproperlyConfigured',\n",
       " 'In',\n",
       " 'IntField',\n",
       " 'InvalidCollectionError',\n",
       " 'InvalidDocumentError',\n",
       " 'InvalidQueryError',\n",
       " 'LazyReferenceField',\n",
       " 'LineStringField',\n",
       " 'ListField',\n",
       " 'LongField',\n",
       " 'LookUpError',\n",
       " 'MapField',\n",
       " 'MapReduceDocument',\n",
       " 'MongoEngineConnectionError',\n",
       " 'MultiLineStringField',\n",
       " 'MultiPointField',\n",
       " 'MultiPolygonField',\n",
       " 'MultipleObjectsReturned',\n",
       " 'NULLIFY',\n",
       " 'NotRegistered',\n",
       " 'NotUniqueError',\n",
       " 'ObjectIdField',\n",
       " 'OperationError',\n",
       " 'Out',\n",
       " 'PULL',\n",
       " 'PointField',\n",
       " 'PolygonField',\n",
       " 'Q',\n",
       " 'QueryFieldList',\n",
       " 'QuerySet',\n",
       " 'QuerySetManager',\n",
       " 'QuerySetNoCache',\n",
       " 'ReferenceField',\n",
       " 'SaveConditionError',\n",
       " 'SequenceField',\n",
       " 'SortedListField',\n",
       " 'StringField',\n",
       " 'TaggedText',\n",
       " 'URLField',\n",
       " 'UUIDField',\n",
       " 'ValidationError',\n",
       " '_',\n",
       " '_7',\n",
       " '__',\n",
       " '___',\n",
       " '__builtin__',\n",
       " '__builtins__',\n",
       " '__doc__',\n",
       " '__loader__',\n",
       " '__name__',\n",
       " '__package__',\n",
       " '__spec__',\n",
       " '_dh',\n",
       " '_i',\n",
       " '_i1',\n",
       " '_i10',\n",
       " '_i2',\n",
       " '_i3',\n",
       " '_i4',\n",
       " '_i5',\n",
       " '_i6',\n",
       " '_i7',\n",
       " '_i8',\n",
       " '_i9',\n",
       " '_ih',\n",
       " '_ii',\n",
       " '_iii',\n",
       " '_oh',\n",
       " 'connect',\n",
       " 'datetime',\n",
       " 'exit',\n",
       " 'get_ipython',\n",
       " 'post_delete',\n",
       " 'post_init',\n",
       " 'post_save',\n",
       " 'pre_delete',\n",
       " 'pre_init',\n",
       " 'pre_save',\n",
       " 'pre_save_post_validation',\n",
       " 'queryset_manager',\n",
       " 'quit',\n",
       " 'register_connection',\n",
       " 'time',\n",
       " 'web_scraper']"
      ]
     },
     "execution_count": 10,
     "metadata": {},
     "output_type": "execute_result"
    }
   ],
   "source": [
    "dir()"
   ]
  },
  {
   "cell_type": "code",
   "execution_count": null,
   "metadata": {},
   "outputs": [],
   "source": []
  }
 ],
 "metadata": {
  "kernelspec": {
   "display_name": "Python 3",
   "language": "python",
   "name": "python3"
  },
  "language_info": {
   "codemirror_mode": {
    "name": "ipython",
    "version": 3
   },
   "file_extension": ".py",
   "mimetype": "text/x-python",
   "name": "python",
   "nbconvert_exporter": "python",
   "pygments_lexer": "ipython3",
   "version": "3.6.6"
  }
 },
 "nbformat": 4,
 "nbformat_minor": 2
}
