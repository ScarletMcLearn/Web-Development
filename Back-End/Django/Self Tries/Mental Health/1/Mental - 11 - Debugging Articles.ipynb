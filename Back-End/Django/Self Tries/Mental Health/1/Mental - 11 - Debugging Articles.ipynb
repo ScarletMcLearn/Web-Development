{
 "cells": [
  {
   "cell_type": "code",
   "execution_count": 1,
   "metadata": {},
   "outputs": [],
   "source": [
    "import web_scraper, ArticleScraper"
   ]
  },
  {
   "cell_type": "code",
   "execution_count": 2,
   "metadata": {},
   "outputs": [],
   "source": [
    "with open('cleaned_data_url.txt', 'r') as f:\n",
    "    links = f.readlines()\n"
   ]
  },
  {
   "cell_type": "code",
   "execution_count": 4,
   "metadata": {},
   "outputs": [],
   "source": [
    "pg = web_scraper.soupified_request('http://www.mentalhealthamerica.net/conditions/depression-women')"
   ]
  },
  {
   "cell_type": "code",
   "execution_count": 5,
   "metadata": {},
   "outputs": [],
   "source": [
    "tag_text_list = []\n",
    "\n",
    "title = ArticleScraper.get_article_title(pg)\n"
   ]
  },
  {
   "cell_type": "code",
   "execution_count": 6,
   "metadata": {},
   "outputs": [
    {
     "data": {
      "text/plain": [
       "'Depression In Women'"
      ]
     },
     "execution_count": 6,
     "metadata": {},
     "output_type": "execute_result"
    }
   ],
   "source": [
    "title"
   ]
  },
  {
   "cell_type": "code",
   "execution_count": 8,
   "metadata": {},
   "outputs": [
    {
     "data": {
      "text/plain": [
       "[['p',\n",
       "  'Contrary to popular belief, clinical depression is not a “normal part of being a woman” nor is it a “female weakness.” Depressive illnesses are serious medical illnesses that affect more than 19 million American adults age 18 and over each year.[1]\\xa0Depression is a\\xa0treatable\\xa0medical illness that can occur in any woman, at any time, and for various reasons regardless of age, race or income.'],\n",
       " ['h2', 'Prevalence'],\n",
       " ['ul',\n",
       "  '\\n\\nApproximately 12 million women in the United States experience clinical depression each year.[2]\\n\\n\\nAbout one in every eight women can expect to develop clinical depression during their lifetime.[2]\\n\\n\\nDepression occurs most frequently in women aged 25 to 44.[3]\\n\\n'],\n",
       " ['h2', 'Contributing Factors'],\n",
       " ['ul',\n",
       "  '\\n\\nMany factors in women may contribute to depression, such as developmental, reproductive, hormonal, genetic and other biological differences (e.g. premenstrual syndrome, childbirth, infertility and menopause).[4]\\n\\n\\nSocial factors may also lead to higher rates of clinical depression among women, including stress from work, family responsibilities, the roles and expectations of women and increased rates of sexual abuse and poverty.[4]\\n\\n'],\n",
       " ['h2', 'Gender Differences'],\n",
       " ['ul',\n",
       "  '\\n\\nWomen experience depression at roughly twice the rate of men.[3]\\n\\n\\nGirls 14-18 years of age have consistently higher rates of depression than boys in this age group.[5]\\n\\n'],\n",
       " ['h2', 'PMS/PMDD'],\n",
       " ['ul',\n",
       "  '\\n\\nTwenty to forty percent of women may experience premenstrual syndrome and an estimated 3 to 5 percent have symptoms severe enough to be classified as Premenstrual Dysphoric Disorder (PMDD).\\xa0[6]\\n\\n\\nPremenstrual Dysphoric Disorder (PMDD) is diagnosed when a woman experiences severe symptoms of depression, tension, and irritability in the week prior to menstruation. While it isn’t uncommon for most women to experience emotional and physical changes prior to menstruation, women who meet criteria for PMDD experience changes that impact their lives in more\\n\\n'],\n",
       " ['p',\n",
       "  '\\xa0 \\xa0 \\xa0 \\xa0In PMDD, symptoms must be present for most menstrual cycles in the previous year and include:'],\n",
       " ['ul',\n",
       "  '\\nSudden mood swings\\nIrritability, anger, or increased conflict with others\\nDepressed mood or feelings of hopelessness\\nAnxiety or tension\\nDecreased interest in usual activities\\nDifficulty staying focused in attention or thinking\\nFatigue\\nChange in appetite, or food cravings\\nTrouble sleeping or sleeping too much\\nFeeling overwhelmed or out of control\\nPhysical symptoms, such as breast tenderness, joint or muscle pain, weight gain, and bloating\\n'],\n",
       " ['p',\n",
       "  'The distinction between PMDD and disorders like Major Depressive Disorder is that symptoms begin a week prior to menstruation and end within the first few days. Treatment can include hormone treatment, psychotherapy, and antidepressants. With treatment most women experience partial or full improvement in symptoms. [15]'],\n",
       " ['h2', 'Marriage/Childbirth'],\n",
       " ['ul',\n",
       "  '\\n\\nMarried people have a lower rate of depression than those living alone.\\xa0 However, unhappily married people have the highest rates of depression; happily married men have the lowest rates.[3]\\n\\n\\nApproximately 10%-15% of all new mothers get\\xa0postpartum depression, which most frequently occurs within the first year after the birth of a child.[7]\\n\\n'],\n",
       " ['h2', 'Co-occurring Illnesses'],\n",
       " ['ul',\n",
       "  '\\n\\nResearch shows a strong relationship between eating disorders (anorexia and bulimia nervosa) and depression in women.[8]\\xa0 About 90-95% of cases of anorexia occur in young females.[9]\\xa0 Reported rates of bulimia nervosa vary from one to three out of 100 people.[6]\\n\\n\\nResearch shows that one out of three depressed people also suffers from some form of substance abuse or dependence.[9]\\n\\n'],\n",
       " ['h2', 'Suicide'],\n",
       " ['ul',\n",
       "  '\\n\\nAlthough men are more likely than women to\\xa0die\\xa0by suicide, women report\\xa0attemptingsuicide approximately twice as often as men.[10]\\n\\n\\nAn estimated 15 percent of people hospitalized for depression eventually take their own lives.[11]\\n\\n'],\n",
       " ['h2', 'Treatment'],\n",
       " ['ul',\n",
       "  '\\n\\nDepression in women is misdiagnosed approximately 30 to 50 percent of the time.[12]\\n\\n\\nFewer than half of the women who experience clinical depression will ever seek care.[13]\\n\\n'],\n",
       " ['p',\n",
       "  'Fortunately, clinical depression is a very treatable illness.\\xa0 More than 80 percent of people with depression can be treated successfully with medication, psychotherapy or a combination of both.\\xa0[3]'],\n",
       " ['h2', 'Women’s Attitudes Toward Depression:'],\n",
       " ['p',\n",
       "  'According to a Mental Health America survey\\xa0[14]\\xa0on public attitudes and beliefs about clinical depression:'],\n",
       " ['ul',\n",
       "  '\\n\\nMore than one-half of women believe it is “normal” for a woman to be depressed during menopause and that treatment is not necessary.\\n\\n\\nMore than one-half of women believe depression is a “normal part of aging.”\\n\\n\\nMore than one-half believe it is normal for a mother to feel depressed for at least two weeks after giving birth.\\n\\n\\nMore than one-half of women cited denial as a barrier to treatment while 41% of women surveyed cited embarrassment or shame as barriers to treatment.\\n\\n\\nIn general, over one-half of the women said they think they “know” more about depression than men do.\\n\\n'],\n",
       " ['h3', 'Other Resources'],\n",
       " ['p',\n",
       "  'National Suicide Prevention Lifeline\\n\\t1-800-273-TALK (8255)\\nhttp://www.suicidepreventionlifeline.org/'],\n",
       " ['p',\n",
       "  'International Foundation for Research and Education on Depression\\nhttp://www.ifred.org/'],\n",
       " ['p',\n",
       "  'Depression and Bipolar Support Alliance (DBSA)\\n\\t1-800-826-3632\\nhttp://www.dbsalliance.org/'],\n",
       " ['p',\n",
       "  'National Institute of Mental Health\\n\\t866-615-6464\\nwww.nimh.nih.gov'],\n",
       " ['p',\n",
       "  'American Psychiatric Association\\n\\t703-907-7300\\nwww.psychiatry.org/'],\n",
       " ['p',\n",
       "  'Anxiety and Depression Association of America\\n\\t240-485-1001\\nwww.adaa.org'],\n",
       " ['h3', 'Sources'],\n",
       " ['p',\n",
       "  '[1]\\xa0\\xa0 National Institute of Mental Health: “The Numbers Count: Mental Illness in America,”Science on Our Minds Fact Sheet Series. Accessed August 1999.\\xa0http://www.nimh.nih.gov/publicat/numbers.cfm\\n[2]\\xa0\\xa0 National Institute of Mental Health, Unpublished Epidemiological Catchment Area Analyses, (1999).\\n[3]\\xa0\\xa0 National Institute of Mental Health:\\xa0 “Depression: Treat it. Defeat it.” Accessed June 1999.\\xa0http://www.nimh.nih.gov/depression/genpop/gen_fact.htm.\\n[4]\\xa0\\xa0 National Institute of Mental Health, D/ART Campaign: “Depression:\\xa0 What Every Woman Should Know,” (1995). Pub No. 95-3871.\\n[5]\\xa0\\xa0 Kandel DB, Davies M:\\xa0 “Epidemiology of Depressive Mood in Adolescents: An Empirical Study,”\\xa0Archives of General Psychiatry\\xa01982; 39:1205-1212.\\n[6]\\xa0\\xa0 National Institute of Mental Health.\\xa0 “Women Hold Up Half the Sky,” Updated June 1999.\\xa0http://www.nimh.nih.gov/publicat/womensoms.cfm.\\n[7]\\xa0\\xa0 Seidman D: “Postpartum Psychiatric Illness: The Role of the Pediatrician,”\\xa0Pediatrics in Review, 19 (1998):128-131.\\n[8]\\xa0\\xa0 Willcox M, Stattler, DN:\\xa0 “The Relationship Between Disorders and Depression,”\\xa0The Journal of Social Psychology\\xa01996; 136:269.\\n[9]\\xa0\\xa0 National Institute of Mental Health: “Co-Occurrence of Depression with Medical, Psychiatric and Substance Abuse Disorders,”\\xa0Accessed July 1999. http://www.nimh.nih.gov/depression/co_occur/abuse.htm\\n[10]\\xa0Horton JA:\\xa0 “A Profile of Women’s Health in the United States,”\\xa0The Women’s Health Data Book, 2nd\\xa0ed., Jacobs Institute of Women’s Health, 1995.\\n[11]\\xa0National Institute of Mental Health.\\xa0 “Helpful Facts About Depressive Illnesses,” (1994). Pub. No. 94-3875. Accessed June 1999.\\xa0http://www.nimh.nih.gov/depression/genpop/dep_fact.htm.\\n[12]\\xa0 McGrath E, Keita GP, Strickland BR, Russo NF: “Women and Depression: Risk Factors and Treatment Issues. Washington, DC, American Psychological Association, 1990.\\n[13]\\xa0Rupp A, Gause E, Regier D: “Research Policy Implications of Cost-of-Illness Studies for Mental Disorders,”\\xa0British Journal of Psychiatry Suppl\\xa01998; 36:19-25.\\n[14]\\xa0National Mental Health Association, “American Attitudes about Clinical Depression and its Treatment,” (March 27, 1996).\\n[15]\\xa0American Psychiatric Association. (2014). Understanding Mental Disorders: Your Guide to DSM-5. Washington, DC: American Psychiatric Publishing.']]"
      ]
     },
     "execution_count": 8,
     "metadata": {},
     "output_type": "execute_result"
    }
   ],
   "source": [
    "body = list(pg.find('div', {'class' : 'field-item even first last'}))\n",
    "\n",
    "ArticleScraper.tag_text_list_gen(body, tag_text_list)\n"
   ]
  },
  {
   "cell_type": "code",
   "execution_count": 12,
   "metadata": {},
   "outputs": [
    {
     "name": "stdout",
     "output_type": "stream",
     "text": [
      "['p', 'Contrary to popular belief, clinical depression is not a “normal part of being a woman” nor is it a “female weakness.” Depressive illnesses are serious medical illnesses that affect more than 19 million American adults age 18 and over each year.[1]\\xa0Depression is a\\xa0treatable\\xa0medical illness that can occur in any woman, at any time, and for various reasons regardless of age, race or income.']\n",
      "['h2', 'Prevalence']\n",
      "['ul', '\\n\\nApproximately 12 million women in the United States experience clinical depression each year.[2]\\n\\n\\nAbout one in every eight women can expect to develop clinical depression during their lifetime.[2]\\n\\n\\nDepression occurs most frequently in women aged 25 to 44.[3]\\n\\n']\n",
      "['h2', 'Contributing Factors']\n",
      "['ul', '\\n\\nMany factors in women may contribute to depression, such as developmental, reproductive, hormonal, genetic and other biological differences (e.g. premenstrual syndrome, childbirth, infertility and menopause).[4]\\n\\n\\nSocial factors may also lead to higher rates of clinical depression among women, including stress from work, family responsibilities, the roles and expectations of women and increased rates of sexual abuse and poverty.[4]\\n\\n']\n",
      "['h2', 'Gender Differences']\n",
      "['ul', '\\n\\nWomen experience depression at roughly twice the rate of men.[3]\\n\\n\\nGirls 14-18 years of age have consistently higher rates of depression than boys in this age group.[5]\\n\\n']\n",
      "['h2', 'PMS/PMDD']\n",
      "['ul', '\\n\\nTwenty to forty percent of women may experience premenstrual syndrome and an estimated 3 to 5 percent have symptoms severe enough to be classified as Premenstrual Dysphoric Disorder (PMDD).\\xa0[6]\\n\\n\\nPremenstrual Dysphoric Disorder (PMDD) is diagnosed when a woman experiences severe symptoms of depression, tension, and irritability in the week prior to menstruation. While it isn’t uncommon for most women to experience emotional and physical changes prior to menstruation, women who meet criteria for PMDD experience changes that impact their lives in more\\n\\n']\n",
      "['p', '\\xa0 \\xa0 \\xa0 \\xa0In PMDD, symptoms must be present for most menstrual cycles in the previous year and include:']\n",
      "['ul', '\\nSudden mood swings\\nIrritability, anger, or increased conflict with others\\nDepressed mood or feelings of hopelessness\\nAnxiety or tension\\nDecreased interest in usual activities\\nDifficulty staying focused in attention or thinking\\nFatigue\\nChange in appetite, or food cravings\\nTrouble sleeping or sleeping too much\\nFeeling overwhelmed or out of control\\nPhysical symptoms, such as breast tenderness, joint or muscle pain, weight gain, and bloating\\n']\n",
      "['p', 'The distinction between PMDD and disorders like Major Depressive Disorder is that symptoms begin a week prior to menstruation and end within the first few days. Treatment can include hormone treatment, psychotherapy, and antidepressants. With treatment most women experience partial or full improvement in symptoms. [15]']\n",
      "['h2', 'Marriage/Childbirth']\n",
      "['ul', '\\n\\nMarried people have a lower rate of depression than those living alone.\\xa0 However, unhappily married people have the highest rates of depression; happily married men have the lowest rates.[3]\\n\\n\\nApproximately 10%-15% of all new mothers get\\xa0postpartum depression, which most frequently occurs within the first year after the birth of a child.[7]\\n\\n']\n",
      "['h2', 'Co-occurring Illnesses']\n",
      "['ul', '\\n\\nResearch shows a strong relationship between eating disorders (anorexia and bulimia nervosa) and depression in women.[8]\\xa0 About 90-95% of cases of anorexia occur in young females.[9]\\xa0 Reported rates of bulimia nervosa vary from one to three out of 100 people.[6]\\n\\n\\nResearch shows that one out of three depressed people also suffers from some form of substance abuse or dependence.[9]\\n\\n']\n",
      "['h2', 'Suicide']\n",
      "['ul', '\\n\\nAlthough men are more likely than women to\\xa0die\\xa0by suicide, women report\\xa0attemptingsuicide approximately twice as often as men.[10]\\n\\n\\nAn estimated 15 percent of people hospitalized for depression eventually take their own lives.[11]\\n\\n']\n",
      "['h2', 'Treatment']\n",
      "['ul', '\\n\\nDepression in women is misdiagnosed approximately 30 to 50 percent of the time.[12]\\n\\n\\nFewer than half of the women who experience clinical depression will ever seek care.[13]\\n\\n']\n",
      "['p', 'Fortunately, clinical depression is a very treatable illness.\\xa0 More than 80 percent of people with depression can be treated successfully with medication, psychotherapy or a combination of both.\\xa0[3]']\n",
      "['h2', 'Women’s Attitudes Toward Depression:']\n",
      "['p', 'According to a Mental Health America survey\\xa0[14]\\xa0on public attitudes and beliefs about clinical depression:']\n",
      "['ul', '\\n\\nMore than one-half of women believe it is “normal” for a woman to be depressed during menopause and that treatment is not necessary.\\n\\n\\nMore than one-half of women believe depression is a “normal part of aging.”\\n\\n\\nMore than one-half believe it is normal for a mother to feel depressed for at least two weeks after giving birth.\\n\\n\\nMore than one-half of women cited denial as a barrier to treatment while 41% of women surveyed cited embarrassment or shame as barriers to treatment.\\n\\n\\nIn general, over one-half of the women said they think they “know” more about depression than men do.\\n\\n']\n",
      "['h3', 'Other Resources']\n",
      "['p', 'National Suicide Prevention Lifeline\\n\\t1-800-273-TALK (8255)\\nhttp://www.suicidepreventionlifeline.org/']\n",
      "['p', 'International Foundation for Research and Education on Depression\\nhttp://www.ifred.org/']\n",
      "['p', 'Depression and Bipolar Support Alliance (DBSA)\\n\\t1-800-826-3632\\nhttp://www.dbsalliance.org/']\n",
      "['p', 'National Institute of Mental Health\\n\\t866-615-6464\\nwww.nimh.nih.gov']\n",
      "['p', 'American Psychiatric Association\\n\\t703-907-7300\\nwww.psychiatry.org/']\n",
      "['p', 'Anxiety and Depression Association of America\\n\\t240-485-1001\\nwww.adaa.org']\n",
      "['h3', 'Sources']\n",
      "['p', '[1]\\xa0\\xa0 National Institute of Mental Health: “The Numbers Count: Mental Illness in America,”Science on Our Minds Fact Sheet Series. Accessed August 1999.\\xa0http://www.nimh.nih.gov/publicat/numbers.cfm\\n[2]\\xa0\\xa0 National Institute of Mental Health, Unpublished Epidemiological Catchment Area Analyses, (1999).\\n[3]\\xa0\\xa0 National Institute of Mental Health:\\xa0 “Depression: Treat it. Defeat it.” Accessed June 1999.\\xa0http://www.nimh.nih.gov/depression/genpop/gen_fact.htm.\\n[4]\\xa0\\xa0 National Institute of Mental Health, D/ART Campaign: “Depression:\\xa0 What Every Woman Should Know,” (1995). Pub No. 95-3871.\\n[5]\\xa0\\xa0 Kandel DB, Davies M:\\xa0 “Epidemiology of Depressive Mood in Adolescents: An Empirical Study,”\\xa0Archives of General Psychiatry\\xa01982; 39:1205-1212.\\n[6]\\xa0\\xa0 National Institute of Mental Health.\\xa0 “Women Hold Up Half the Sky,” Updated June 1999.\\xa0http://www.nimh.nih.gov/publicat/womensoms.cfm.\\n[7]\\xa0\\xa0 Seidman D: “Postpartum Psychiatric Illness: The Role of the Pediatrician,”\\xa0Pediatrics in Review, 19 (1998):128-131.\\n[8]\\xa0\\xa0 Willcox M, Stattler, DN:\\xa0 “The Relationship Between Disorders and Depression,”\\xa0The Journal of Social Psychology\\xa01996; 136:269.\\n[9]\\xa0\\xa0 National Institute of Mental Health: “Co-Occurrence of Depression with Medical, Psychiatric and Substance Abuse Disorders,”\\xa0Accessed July 1999. http://www.nimh.nih.gov/depression/co_occur/abuse.htm\\n[10]\\xa0Horton JA:\\xa0 “A Profile of Women’s Health in the United States,”\\xa0The Women’s Health Data Book, 2nd\\xa0ed., Jacobs Institute of Women’s Health, 1995.\\n[11]\\xa0National Institute of Mental Health.\\xa0 “Helpful Facts About Depressive Illnesses,” (1994). Pub. No. 94-3875. Accessed June 1999.\\xa0http://www.nimh.nih.gov/depression/genpop/dep_fact.htm.\\n[12]\\xa0 McGrath E, Keita GP, Strickland BR, Russo NF: “Women and Depression: Risk Factors and Treatment Issues. Washington, DC, American Psychological Association, 1990.\\n[13]\\xa0Rupp A, Gause E, Regier D: “Research Policy Implications of Cost-of-Illness Studies for Mental Disorders,”\\xa0British Journal of Psychiatry Suppl\\xa01998; 36:19-25.\\n[14]\\xa0National Mental Health Association, “American Attitudes about Clinical Depression and its Treatment,” (March 27, 1996).\\n[15]\\xa0American Psychiatric Association. (2014). Understanding Mental Disorders: Your Guide to DSM-5. Washington, DC: American Psychiatric Publishing.']\n"
     ]
    }
   ],
   "source": [
    "contentss = []\n",
    "\n",
    "for i in range(0, len(tag_text_list)):\n",
    "    \n",
    "    print(tag_text_list[i])\n",
    "\n",
    "    tagg = tag_text_list[i][0]\n",
    "    textt = tag_text_list[i][1]\n",
    "\n",
    "    contentss.append({'tag':tagg, 'content':textt})\n",
    "\n"
   ]
  },
  {
   "cell_type": "code",
   "execution_count": 13,
   "metadata": {},
   "outputs": [
    {
     "data": {
      "text/plain": [
       "[{'tag': 'p',\n",
       "  'content': 'Contrary to popular belief, clinical depression is not a “normal part of being a woman” nor is it a “female weakness.” Depressive illnesses are serious medical illnesses that affect more than 19 million American adults age 18 and over each year.[1]\\xa0Depression is a\\xa0treatable\\xa0medical illness that can occur in any woman, at any time, and for various reasons regardless of age, race or income.'},\n",
       " {'tag': 'h2', 'content': 'Prevalence'},\n",
       " {'tag': 'ul',\n",
       "  'content': '\\n\\nApproximately 12 million women in the United States experience clinical depression each year.[2]\\n\\n\\nAbout one in every eight women can expect to develop clinical depression during their lifetime.[2]\\n\\n\\nDepression occurs most frequently in women aged 25 to 44.[3]\\n\\n'},\n",
       " {'tag': 'h2', 'content': 'Contributing Factors'},\n",
       " {'tag': 'ul',\n",
       "  'content': '\\n\\nMany factors in women may contribute to depression, such as developmental, reproductive, hormonal, genetic and other biological differences (e.g. premenstrual syndrome, childbirth, infertility and menopause).[4]\\n\\n\\nSocial factors may also lead to higher rates of clinical depression among women, including stress from work, family responsibilities, the roles and expectations of women and increased rates of sexual abuse and poverty.[4]\\n\\n'},\n",
       " {'tag': 'h2', 'content': 'Gender Differences'},\n",
       " {'tag': 'ul',\n",
       "  'content': '\\n\\nWomen experience depression at roughly twice the rate of men.[3]\\n\\n\\nGirls 14-18 years of age have consistently higher rates of depression than boys in this age group.[5]\\n\\n'},\n",
       " {'tag': 'h2', 'content': 'PMS/PMDD'},\n",
       " {'tag': 'ul',\n",
       "  'content': '\\n\\nTwenty to forty percent of women may experience premenstrual syndrome and an estimated 3 to 5 percent have symptoms severe enough to be classified as Premenstrual Dysphoric Disorder (PMDD).\\xa0[6]\\n\\n\\nPremenstrual Dysphoric Disorder (PMDD) is diagnosed when a woman experiences severe symptoms of depression, tension, and irritability in the week prior to menstruation. While it isn’t uncommon for most women to experience emotional and physical changes prior to menstruation, women who meet criteria for PMDD experience changes that impact their lives in more\\n\\n'},\n",
       " {'tag': 'p',\n",
       "  'content': '\\xa0 \\xa0 \\xa0 \\xa0In PMDD, symptoms must be present for most menstrual cycles in the previous year and include:'},\n",
       " {'tag': 'ul',\n",
       "  'content': '\\nSudden mood swings\\nIrritability, anger, or increased conflict with others\\nDepressed mood or feelings of hopelessness\\nAnxiety or tension\\nDecreased interest in usual activities\\nDifficulty staying focused in attention or thinking\\nFatigue\\nChange in appetite, or food cravings\\nTrouble sleeping or sleeping too much\\nFeeling overwhelmed or out of control\\nPhysical symptoms, such as breast tenderness, joint or muscle pain, weight gain, and bloating\\n'},\n",
       " {'tag': 'p',\n",
       "  'content': 'The distinction between PMDD and disorders like Major Depressive Disorder is that symptoms begin a week prior to menstruation and end within the first few days. Treatment can include hormone treatment, psychotherapy, and antidepressants. With treatment most women experience partial or full improvement in symptoms. [15]'},\n",
       " {'tag': 'h2', 'content': 'Marriage/Childbirth'},\n",
       " {'tag': 'ul',\n",
       "  'content': '\\n\\nMarried people have a lower rate of depression than those living alone.\\xa0 However, unhappily married people have the highest rates of depression; happily married men have the lowest rates.[3]\\n\\n\\nApproximately 10%-15% of all new mothers get\\xa0postpartum depression, which most frequently occurs within the first year after the birth of a child.[7]\\n\\n'},\n",
       " {'tag': 'h2', 'content': 'Co-occurring Illnesses'},\n",
       " {'tag': 'ul',\n",
       "  'content': '\\n\\nResearch shows a strong relationship between eating disorders (anorexia and bulimia nervosa) and depression in women.[8]\\xa0 About 90-95% of cases of anorexia occur in young females.[9]\\xa0 Reported rates of bulimia nervosa vary from one to three out of 100 people.[6]\\n\\n\\nResearch shows that one out of three depressed people also suffers from some form of substance abuse or dependence.[9]\\n\\n'},\n",
       " {'tag': 'h2', 'content': 'Suicide'},\n",
       " {'tag': 'ul',\n",
       "  'content': '\\n\\nAlthough men are more likely than women to\\xa0die\\xa0by suicide, women report\\xa0attemptingsuicide approximately twice as often as men.[10]\\n\\n\\nAn estimated 15 percent of people hospitalized for depression eventually take their own lives.[11]\\n\\n'},\n",
       " {'tag': 'h2', 'content': 'Treatment'},\n",
       " {'tag': 'ul',\n",
       "  'content': '\\n\\nDepression in women is misdiagnosed approximately 30 to 50 percent of the time.[12]\\n\\n\\nFewer than half of the women who experience clinical depression will ever seek care.[13]\\n\\n'},\n",
       " {'tag': 'p',\n",
       "  'content': 'Fortunately, clinical depression is a very treatable illness.\\xa0 More than 80 percent of people with depression can be treated successfully with medication, psychotherapy or a combination of both.\\xa0[3]'},\n",
       " {'tag': 'h2', 'content': 'Women’s Attitudes Toward Depression:'},\n",
       " {'tag': 'p',\n",
       "  'content': 'According to a Mental Health America survey\\xa0[14]\\xa0on public attitudes and beliefs about clinical depression:'},\n",
       " {'tag': 'ul',\n",
       "  'content': '\\n\\nMore than one-half of women believe it is “normal” for a woman to be depressed during menopause and that treatment is not necessary.\\n\\n\\nMore than one-half of women believe depression is a “normal part of aging.”\\n\\n\\nMore than one-half believe it is normal for a mother to feel depressed for at least two weeks after giving birth.\\n\\n\\nMore than one-half of women cited denial as a barrier to treatment while 41% of women surveyed cited embarrassment or shame as barriers to treatment.\\n\\n\\nIn general, over one-half of the women said they think they “know” more about depression than men do.\\n\\n'},\n",
       " {'tag': 'h3', 'content': 'Other Resources'},\n",
       " {'tag': 'p',\n",
       "  'content': 'National Suicide Prevention Lifeline\\n\\t1-800-273-TALK (8255)\\nhttp://www.suicidepreventionlifeline.org/'},\n",
       " {'tag': 'p',\n",
       "  'content': 'International Foundation for Research and Education on Depression\\nhttp://www.ifred.org/'},\n",
       " {'tag': 'p',\n",
       "  'content': 'Depression and Bipolar Support Alliance (DBSA)\\n\\t1-800-826-3632\\nhttp://www.dbsalliance.org/'},\n",
       " {'tag': 'p',\n",
       "  'content': 'National Institute of Mental Health\\n\\t866-615-6464\\nwww.nimh.nih.gov'},\n",
       " {'tag': 'p',\n",
       "  'content': 'American Psychiatric Association\\n\\t703-907-7300\\nwww.psychiatry.org/'},\n",
       " {'tag': 'p',\n",
       "  'content': 'Anxiety and Depression Association of America\\n\\t240-485-1001\\nwww.adaa.org'},\n",
       " {'tag': 'h3', 'content': 'Sources'},\n",
       " {'tag': 'p',\n",
       "  'content': '[1]\\xa0\\xa0 National Institute of Mental Health: “The Numbers Count: Mental Illness in America,”Science on Our Minds Fact Sheet Series. Accessed August 1999.\\xa0http://www.nimh.nih.gov/publicat/numbers.cfm\\n[2]\\xa0\\xa0 National Institute of Mental Health, Unpublished Epidemiological Catchment Area Analyses, (1999).\\n[3]\\xa0\\xa0 National Institute of Mental Health:\\xa0 “Depression: Treat it. Defeat it.” Accessed June 1999.\\xa0http://www.nimh.nih.gov/depression/genpop/gen_fact.htm.\\n[4]\\xa0\\xa0 National Institute of Mental Health, D/ART Campaign: “Depression:\\xa0 What Every Woman Should Know,” (1995). Pub No. 95-3871.\\n[5]\\xa0\\xa0 Kandel DB, Davies M:\\xa0 “Epidemiology of Depressive Mood in Adolescents: An Empirical Study,”\\xa0Archives of General Psychiatry\\xa01982; 39:1205-1212.\\n[6]\\xa0\\xa0 National Institute of Mental Health.\\xa0 “Women Hold Up Half the Sky,” Updated June 1999.\\xa0http://www.nimh.nih.gov/publicat/womensoms.cfm.\\n[7]\\xa0\\xa0 Seidman D: “Postpartum Psychiatric Illness: The Role of the Pediatrician,”\\xa0Pediatrics in Review, 19 (1998):128-131.\\n[8]\\xa0\\xa0 Willcox M, Stattler, DN:\\xa0 “The Relationship Between Disorders and Depression,”\\xa0The Journal of Social Psychology\\xa01996; 136:269.\\n[9]\\xa0\\xa0 National Institute of Mental Health: “Co-Occurrence of Depression with Medical, Psychiatric and Substance Abuse Disorders,”\\xa0Accessed July 1999. http://www.nimh.nih.gov/depression/co_occur/abuse.htm\\n[10]\\xa0Horton JA:\\xa0 “A Profile of Women’s Health in the United States,”\\xa0The Women’s Health Data Book, 2nd\\xa0ed., Jacobs Institute of Women’s Health, 1995.\\n[11]\\xa0National Institute of Mental Health.\\xa0 “Helpful Facts About Depressive Illnesses,” (1994). Pub. No. 94-3875. Accessed June 1999.\\xa0http://www.nimh.nih.gov/depression/genpop/dep_fact.htm.\\n[12]\\xa0 McGrath E, Keita GP, Strickland BR, Russo NF: “Women and Depression: Risk Factors and Treatment Issues. Washington, DC, American Psychological Association, 1990.\\n[13]\\xa0Rupp A, Gause E, Regier D: “Research Policy Implications of Cost-of-Illness Studies for Mental Disorders,”\\xa0British Journal of Psychiatry Suppl\\xa01998; 36:19-25.\\n[14]\\xa0National Mental Health Association, “American Attitudes about Clinical Depression and its Treatment,” (March 27, 1996).\\n[15]\\xa0American Psychiatric Association. (2014). Understanding Mental Disorders: Your Guide to DSM-5. Washington, DC: American Psychiatric Publishing.'}]"
      ]
     },
     "execution_count": 13,
     "metadata": {},
     "output_type": "execute_result"
    }
   ],
   "source": [
    "contentss"
   ]
  },
  {
   "cell_type": "code",
   "execution_count": null,
   "metadata": {},
   "outputs": [],
   "source": []
  }
 ],
 "metadata": {
  "kernelspec": {
   "display_name": "Python 3",
   "language": "python",
   "name": "python3"
  },
  "language_info": {
   "codemirror_mode": {
    "name": "ipython",
    "version": 3
   },
   "file_extension": ".py",
   "mimetype": "text/x-python",
   "name": "python",
   "nbconvert_exporter": "python",
   "pygments_lexer": "ipython3",
   "version": "3.6.6"
  }
 },
 "nbformat": 4,
 "nbformat_minor": 2
}
