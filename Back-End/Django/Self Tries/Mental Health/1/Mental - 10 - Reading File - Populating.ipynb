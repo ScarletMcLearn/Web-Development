{
 "cells": [
  {
   "cell_type": "code",
   "execution_count": 4,
   "metadata": {},
   "outputs": [
    {
     "data": {
      "text/plain": [
       "'[\"{\\\\\"img\\\\\": \\\\\"http://www.mentalhealthamerica.net/sites/default/files/journal.jpg\\\\\", \\\\\"style\\\\\": \\\\\"width: 400px; height: 267px;\\\\\"}\", \"{\\\\\"img\\\\\": \\\\\"http://www.mentalhealthamerica.net/sites/default/files/happy%20coffee.jpg\\\\\", \\\\\"style\\\\\": \\\\\"width: 400px; height: 300px;\\\\\"}\", \"{\\\\\"img\\\\\": \\\\\"http://www.mentalhealthamerica.net/sites/default/files/silhouettes%20at%20lake.jpg\\\\\", \\\\\"style\\\\\": \\\\\"width: 400px; height: 300px;\\\\\"}\", \"{\\\\\"img\\\\\": \\\\\"http://www.mentalhealthamerica.net/sites/default/files/you%27ve%20got%20this.jpg\\\\\", \\\\\"style\\\\\": \\\\\"width: 400px; height: 263px;\\\\\"}\", \"{\\\\\"img\\\\\": \\\\\"http://www.mentalhealthamerica.net/sites/default/files/sleeping%20feet.jpg\\\\\", \\\\\"style\\\\\": \\\\\"width: 400px; height: 265px;\\\\\"}\", \"{\\\\\"img\\\\\": \\\\\"http://www.mentalhealthamerica.net/sites/default/files/stairs.jpg\\\\\", \\\\\"style\\\\\": \\\\\"width: 400px; height: 267px;\\\\\"}\", \"{\\\\\"img\\\\\": \\\\\"http://www.mentalhealthamerica.net/sites/default/files/craft%20supplies.jpg\\\\\", \\\\\"style\\\\\": \\\\\"width: 400px; height: 265px;\\\\\"}\", \"{\\\\\"img\\\\\": \\\\\"http://www.mentalhealthamerica.net/sites/default/files/happy%20aa%20couple.jpg\\\\\", \\\\\"style\\\\\": \\\\\"width: 400px; height: 267px;\\\\\"}\", \"{\\\\\"img\\\\\": \\\\\"http://www.mentalhealthamerica.net/sites/default/files/chocolate%20heart.gif\\\\\", \\\\\"style\\\\\": \\\\\"width: 240px; height: 320px;\\\\\"}\", \"{\\\\\"img\\\\\": \\\\\"http://www.mentalhealthamerica.net/sites/default/files/MHM%202016%20Social%20Media%20Images-Twitter%20Header%203.png\\\\\", \\\\\"style\\\\\": \\\\\"width: 600px; height: 200px;\\\\\"}\", \"{\\\\\"img\\\\\": \\\\\"http://www.mentalhealthamerica.net/sites/default/files/coloring.jpg\\\\\", \\\\\"style\\\\\": \\\\\"width: 400px; height: 304px;\\\\\"}\", \"{\\\\\"img\\\\\": \\\\\"http://www.mentalhealthamerica.net/sites/default/files/Drop-Your-Phone-in-the-Basket.jpg\\\\\", \\\\\"style\\\\\": \\\\\"width: 400px; height: 533px;\\\\\"}\", \"{\\\\\"img\\\\\": \\\\\"http://www.mentalhealthamerica.net/sites/default/files/ethnically%20ambiguous%20woman%20writing%20web.jpg\\\\\", \\\\\"style\\\\\": \\\\\"width: 400px; height: 400px;\\\\\"}\", \"{\\\\\"img\\\\\": \\\\\"http://www.mentalhealthamerica.net/sites/default/files/blissful%20b2.jpg\\\\\", \\\\\"style\\\\\": \\\\\"width: 400px; height: 300px;\\\\\"}\", \"{\\\\\"img\\\\\": \\\\\"http://www.mentalhealthamerica.net/sites/default/files/sunny%20silhouette%20stretching%20on%20beach%20web.jpg\\\\\", \\\\\"style\\\\\": \\\\\"width: 400px; height: 241px;\\\\\"}\", \"{\\\\\"img\\\\\": \\\\\"http://www.mentalhealthamerica.net/sites/default/files/home%20town%20tourist.jpg\\\\\", \\\\\"style\\\\\": \\\\\"width: 400px; height: 300px;\\\\\"}\", \"{\\\\\"img\\\\\": \\\\\"http://www.mentalhealthamerica.net/sites/default/files/meal%20prep.jpg\\\\\", \\\\\"style\\\\\": \\\\\"height: 400px; width: 400px;\\\\\"}\", \"{\\\\\"img\\\\\": \\\\\"http://www.mentalhealthamerica.net/sites/default/files/fishoil.jpg\\\\\", \\\\\"style\\\\\": \\\\\"width: 400px; height: 313px;\\\\\"}\", \"{\\\\\"img\\\\\": \\\\\"http://www.mentalhealthamerica.net/sites/default/files/TrafficJamFrustration.jpg\\\\\", \\\\\"style\\\\\": \\\\\"width: 400px; height: 265px;\\\\\"}\", \"{\\\\\"img\\\\\": \\\\\"http://www.mentalhealthamerica.net/sites/default/files/silver%20lining.jpg\\\\\", \\\\\"style\\\\\": \\\\\"width: 400px; height: 267px;\\\\\"}\", \"{\\\\\"img\\\\\": \\\\\"http://www.mentalhealthamerica.net/sites/default/files/thank%20you%20for%20being%20a%20friend.jpg\\\\\", \\\\\"style\\\\\": \\\\\"width: 400px; height: 400px;\\\\\"}\", \"{\\\\\"img\\\\\": \\\\\"http://www.mentalhealthamerica.net/sites/default/files/bubbles%20in%20the%20park.jpg\\\\\", \\\\\"style\\\\\": \\\\\"width: 400px; height: 267px;\\\\\"}\", \"{\\\\\"img\\\\\": \\\\\"http://www.mentalhealthamerica.net/sites/default/files/3%20people%20of%20different%20ethnicity%20walking%20in%20park%20web.jpg\\\\\", \\\\\"style\\\\\": \\\\\"height: 600px; width: 400px;\\\\\"}\", \"{\\\\\"img\\\\\": \\\\\"http://www.mentalhealthamerica.net/sites/default/files/hiking%20in%20the%20sun%20web.jpg\\\\\", \\\\\"style\\\\\": \\\\\"width: 400px; height: 266px;\\\\\"}\", \"{\\\\\"img\\\\\": \\\\\"http://www.mentalhealthamerica.net/sites/default/files/hot%20air%20balloon%20at%20night.jpg\\\\\", \\\\\"style\\\\\": \\\\\"width: 400px; height: 235px;\\\\\"}\"]'"
      ]
     },
     "execution_count": 4,
     "metadata": {},
     "output_type": "execute_result"
    }
   ],
   "source": [
    "import json\n",
    "\n",
    "with open(\"AMA Resources/img0\") as complex_data:\n",
    "     data = complex_data.read()\n",
    "     numbers = json.loads(data)\n",
    "    \n",
    "    \n",
    "data"
   ]
  },
  {
   "cell_type": "code",
   "execution_count": 8,
   "metadata": {},
   "outputs": [
    {
     "data": {
      "text/plain": [
       "str"
      ]
     },
     "execution_count": 8,
     "metadata": {},
     "output_type": "execute_result"
    }
   ],
   "source": [
    "type(data)"
   ]
  },
  {
   "cell_type": "code",
   "execution_count": 9,
   "metadata": {},
   "outputs": [],
   "source": [
    "def _json_object_hook(d): return namedtuple('X', d.keys())(*d.values())\n",
    "def json2obj(data): return json.loads(data, object_hook=_json_object_hook)\n",
    "\n",
    "x = json2obj(data)"
   ]
  },
  {
   "cell_type": "code",
   "execution_count": 11,
   "metadata": {},
   "outputs": [
    {
     "data": {
      "text/plain": [
       "list"
      ]
     },
     "execution_count": 11,
     "metadata": {},
     "output_type": "execute_result"
    }
   ],
   "source": [
    "type(x)"
   ]
  },
  {
   "cell_type": "code",
   "execution_count": 17,
   "metadata": {},
   "outputs": [],
   "source": [
    "user_data = json.loads(data)"
   ]
  },
  {
   "cell_type": "code",
   "execution_count": 20,
   "metadata": {},
   "outputs": [],
   "source": [
    "user_data = json.loads(user_data[0])"
   ]
  },
  {
   "cell_type": "code",
   "execution_count": 21,
   "metadata": {},
   "outputs": [
    {
     "data": {
      "text/plain": [
       "{'img': 'http://www.mentalhealthamerica.net/sites/default/files/journal.jpg',\n",
       " 'style': 'width: 400px; height: 267px;'}"
      ]
     },
     "execution_count": 21,
     "metadata": {},
     "output_type": "execute_result"
    }
   ],
   "source": [
    "user_data"
   ]
  },
  {
   "cell_type": "code",
   "execution_count": 22,
   "metadata": {},
   "outputs": [
    {
     "data": {
      "text/plain": [
       "'http://www.mentalhealthamerica.net/sites/default/files/journal.jpg'"
      ]
     },
     "execution_count": 22,
     "metadata": {},
     "output_type": "execute_result"
    }
   ],
   "source": [
    "user_data['img']"
   ]
  },
  {
   "cell_type": "code",
   "execution_count": null,
   "metadata": {},
   "outputs": [],
   "source": []
  },
  {
   "cell_type": "code",
   "execution_count": null,
   "metadata": {},
   "outputs": [],
   "source": []
  },
  {
   "cell_type": "code",
   "execution_count": 2,
   "metadata": {},
   "outputs": [],
   "source": [
    "import json\n",
    "\n",
    "with open(\"AMA Resources/img0\") as complex_data:\n",
    "     data = complex_data.read()\n",
    "     data = json.loads(data)\n",
    "     data = json.loads(data[0])"
   ]
  },
  {
   "cell_type": "code",
   "execution_count": 3,
   "metadata": {},
   "outputs": [
    {
     "data": {
      "text/plain": [
       "'width: 400px; height: 267px;'"
      ]
     },
     "execution_count": 3,
     "metadata": {},
     "output_type": "execute_result"
    }
   ],
   "source": [
    "data['style']"
   ]
  },
  {
   "cell_type": "code",
   "execution_count": 4,
   "metadata": {},
   "outputs": [
    {
     "data": {
      "text/plain": [
       "{'img': 'http://www.mentalhealthamerica.net/sites/default/files/journal.jpg',\n",
       " 'style': 'width: 400px; height: 267px;'}"
      ]
     },
     "execution_count": 4,
     "metadata": {},
     "output_type": "execute_result"
    }
   ],
   "source": [
    "data"
   ]
  },
  {
   "cell_type": "code",
   "execution_count": 5,
   "metadata": {},
   "outputs": [
    {
     "data": {
      "text/plain": [
       "'http://www.mentalhealthamerica.net/sites/default/files/journal.jpg'"
      ]
     },
     "execution_count": 5,
     "metadata": {},
     "output_type": "execute_result"
    }
   ],
   "source": [
    "data['img']"
   ]
  },
  {
   "cell_type": "code",
   "execution_count": null,
   "metadata": {},
   "outputs": [],
   "source": []
  },
  {
   "cell_type": "code",
   "execution_count": 7,
   "metadata": {},
   "outputs": [],
   "source": [
    "with open(\"AMA Resources/img132\") as complex_data:\n",
    "     data = complex_data.read()\n",
    "     data = json.loads(data)\n",
    "     \n",
    "     if(data):\n",
    "         data = json.loads(data[0])\n",
    "     else:\n",
    "        "
   ]
  },
  {
   "cell_type": "code",
   "execution_count": 8,
   "metadata": {},
   "outputs": [
    {
     "data": {
      "text/plain": [
       "[]"
      ]
     },
     "execution_count": 8,
     "metadata": {},
     "output_type": "execute_result"
    }
   ],
   "source": [
    "data"
   ]
  },
  {
   "cell_type": "code",
   "execution_count": null,
   "metadata": {},
   "outputs": [],
   "source": []
  },
  {
   "cell_type": "code",
   "execution_count": 9,
   "metadata": {},
   "outputs": [],
   "source": [
    "import json\n",
    "\n",
    "with open(\"AMA Resources/img4\") as complex_data:\n",
    "     data = complex_data.read()\n",
    "     data = json.loads(data)\n",
    "#      data = json.loads(data[0])"
   ]
  },
  {
   "cell_type": "code",
   "execution_count": 10,
   "metadata": {},
   "outputs": [
    {
     "data": {
      "text/plain": [
       "['{\"img\": \"http://www.mentalhealthamerica.net/sites/default/files/Peer%20support%20changes%20lives.%20%283%29.png\", \"style\": \"width: 665px; height: 184px;\"}']"
      ]
     },
     "execution_count": 10,
     "metadata": {},
     "output_type": "execute_result"
    }
   ],
   "source": [
    "data "
   ]
  },
  {
   "cell_type": "code",
   "execution_count": 51,
   "metadata": {},
   "outputs": [],
   "source": [
    "import json\n",
    "\n",
    "def open_json(i):\n",
    "    '''\n",
    "    Eita Json Return kore\n",
    "    '''\n",
    "    with open(\"AMA Resources/\" + str(i)) as complex_data:\n",
    "         data = complex_data.read()\n",
    "         data = json.loads(data)\n",
    "#          data = json.loads(data[0])\n",
    "         return data\n",
    "\n",
    "def open_img(i):\n",
    "    '''\n",
    "    Eita List Return kore\n",
    "    '''\n",
    "    with open(\"AMA Resources/img\" + str(i)) as complex_data:\n",
    "         data = complex_data.read()\n",
    "         data = json.loads(data)\n",
    "         return data"
   ]
  },
  {
   "cell_type": "code",
   "execution_count": null,
   "metadata": {},
   "outputs": [],
   "source": []
  },
  {
   "cell_type": "code",
   "execution_count": 52,
   "metadata": {},
   "outputs": [
    {
     "name": "stdout",
     "output_type": "stream",
     "text": [
      "Help on function open_img in module __main__:\n",
      "\n",
      "open_img(i)\n",
      "    Eita List Return kore\n",
      "\n"
     ]
    }
   ],
   "source": [
    "help(open_img)"
   ]
  },
  {
   "cell_type": "code",
   "execution_count": null,
   "metadata": {},
   "outputs": [],
   "source": []
  },
  {
   "cell_type": "code",
   "execution_count": 47,
   "metadata": {},
   "outputs": [
    {
     "data": {
      "text/plain": [
       "{'title': 'What Every Child Needs For Good Mental Health',\n",
       " 'source': 'http://www.mentalhealthamerica.net/every-child-needs',\n",
       " 'contents': [{'tag': 'p',\n",
       "   'content': 'It is easy for parents to identify their child’s physical needs: nutritious food, warm clothes when it’s cold, bedtime at a reasonable hour. However, a child’s mental and emotional needs may not be as obvious. Good mental health allows children to think clearly, develop socially and learn new skills.\\xa0 Additionally, good friends and\\xa0 encouraging words from adults are all important for helping children develop self confidence, high self-esteem, and a healthy emotional outlook on life.'},\n",
       "  {'tag': 'p',\n",
       "   'content': 'A child’s physical and mental health are both important.'},\n",
       "  {'tag': 'p', 'content': 'Basics for a child’s good physical health:'},\n",
       "  {'tag': 'ul',\n",
       "   'content': '\\n\\nNutritious food\\n\\n\\nAdequate shelter and sleep\\n\\n\\nExercise\\n\\n\\nImmunizations\\n\\n\\nHealthy living environment\\n\\n'},\n",
       "  {'tag': 'p', 'content': 'Basics for a child’s good mental health:'},\n",
       "  {'tag': 'ul',\n",
       "   'content': '\\n\\nUnconditional love from family\\n\\n\\nSelf-confidence and high self-esteem\\n\\n\\nThe opportunity to play with other children\\n\\n\\nEncouraging teachers and supportive caretakers\\n\\n\\nSafe and secure surroundings\\n\\n\\nAppropriate guidance and discipline\\n\\n'},\n",
       "  {'tag': 'p', 'content': 'Give children unconditional love.'},\n",
       "  {'tag': 'p',\n",
       "   'content': 'Love, security and acceptance should be at the heart of family life.\\xa0 Children need to know that your love does not depend on his or her accomplishments.'},\n",
       "  {'tag': 'p',\n",
       "   'content': 'Mistakes and/or defeats should be expected and accepted. Confidence grows in a home that is full of unconditional love and affection.'},\n",
       "  {'tag': 'p', 'content': 'Nurture children’s confidence and self-esteem.'},\n",
       "  {'tag': 'ul',\n",
       "   'content': '\\n\\nPraise Them - Encouraging children’s first steps or their ability to learn a new game helps them develop a desire to explore and learn about their surroundings. Allow children to explore and play in a safe area where they cannot get hurt.\\xa0 Assure them by smiling and talking to them often. Be an active participant in their activities. Your attention helps build their self-confidence and self-esteem.\\n\\n\\nSet Realistic Goals - Young children need realistic goals that match their ambitions with their abilities. With your help, older children can choose activities that test their abilities and increase their self-confidence.\\n\\n\\nBe Honest - Do not hide your failures from your children. It is important for them to know that we all make mistakes. It can be very re-assuring to know that adults are not perfect.\\n\\n\\nAvoid Sarcastic Remarks - If a child loses a game or fails a test, find out how he or she feels about the situation. Children may get discouraged and need a pep talk. Later, when they are ready, talk and offer assurance.\\n\\n\\nEncourage children - To not only strive to do their best, but also to enjoy the process. Trying new activities teaches children about teamwork, self-esteem and new skills.\\n\\n'},\n",
       "  {'tag': 'p', 'content': 'Make time for play!'},\n",
       "  {'tag': 'p', 'content': 'Encourage Children to Play'},\n",
       "  {'tag': 'p',\n",
       "   'content': 'To children, play is just fun. However, playtime is as important to their development as food and good care. Playtime helps children be creative, learn problem-solving skills and learn self-control.\\xa0 Good, hardy play, which includes running and yelling, is not only fun, but helps children to be physically and mentally healthy.'},\n",
       "  {'tag': 'p', 'content': 'Children Need Playmates'},\n",
       "  {'tag': 'p',\n",
       "   'content': 'Sometimes it is important for children to have time with their peers.\\xa0 By playing with others, children discover their strengths and weaknesses, develop a sense of belonging, and learn how to get along with others. Consider finding a good children’s program through neighbors, local community centers, schools, or your local park and recreation department.'},\n",
       "  {'tag': 'p', 'content': 'Parents Can be Great Playmates'},\n",
       "  {'tag': 'p',\n",
       "   'content': 'Join the fun! Playing Monopoly or coloring with a child gives you a great opportunity to share ideas and spend time together in a relaxed setting.'},\n",
       "  {'tag': 'p', 'content': 'Play for Fun'},\n",
       "  {'tag': 'p',\n",
       "   'content': 'Winning is not as important as being involved and enjoying the activity. One of the most important questions to ask children is “Did you have fun?’’ not “Did you win?”'},\n",
       "  {'tag': 'p',\n",
       "   'content': 'In our goal-oriented society, we often acknowledge only success and winning. This attitude can be discouraging and frustrating to children who are learning and experimenting with new activities. It’s more important for children to participate and enjoy themselves.'},\n",
       "  {'tag': 'p', 'content': 'TV use should be monitored'},\n",
       "  {'tag': 'p',\n",
       "   'content': 'Try not to use TV as a “baby-sitter” on a regular basis.\\xa0 Be selective in choosing television shows for children. Some shows can be educational as well as entertaining.'},\n",
       "  {'tag': 'p', 'content': 'School should be fun!'},\n",
       "  {'tag': 'p',\n",
       "   'content': 'Starting school is a big event for children. “Playing school” can be a positive way to give them a glimpse of school life.'},\n",
       "  {'tag': 'p',\n",
       "   'content': 'Try to enroll them in a pre-school, Head Start, or similar community program which provides an opportunity to be with other kids and make new friends. Children can also learn academic basics as well as how to make decisions and cope with problems.'},\n",
       "  {'tag': 'p',\n",
       "   'content': 'Provide appropriate guidance and instructive discipline'},\n",
       "  {'tag': 'p',\n",
       "   'content': 'Children need the opportunity to explore and develop new skills and independence. At the same time, children need to learn that certain behaviors are unacceptable and that they are responsible for the consequences of their actions.'},\n",
       "  {'tag': 'p',\n",
       "   'content': 'As members of a family, children need to learn the rules of the family unit. Offer guidance and discipline that is fair and consistent. They will take these social skills and rules of conduct to school and eventually to the workplace.'},\n",
       "  {'tag': 'p', 'content': 'Suggestions on Guidance and Discipline'},\n",
       "  {'tag': 'ul',\n",
       "   'content': '\\n\\nBe firm, but kind and realistic with your expectations. Children’s development depends on your love and encouragement.\\n\\n\\nSet a good example. You cannot expect self-control and self-discipline from a child if you do not practice this behavior.\\n\\n'},\n",
       "  {'tag': 'p',\n",
       "   'content': 'Criticize the behavior, not the child.\\xa0 It is best to say, “That was a bad thing you did,” rather than “You are a bad boy or girl.”'},\n",
       "  {'tag': 'p',\n",
       "   'content': 'Avoid nagging, threats and bribery.\\xa0Children will learn to ignore nagging, and threats and bribes are seldom effective.'},\n",
       "  {'tag': 'p',\n",
       "   'content': 'Give children the reasons “why” you are disciplining them and what the potential consequences of their actions might be.'},\n",
       "  {'tag': 'p',\n",
       "   'content': 'Talk about your feelings.\\xa0 We all lose our temper from time to time. If you do “blow your top,” it is important to talk about what happened and why you are angry.\\xa0 Apologize if you were wrong!'},\n",
       "  {'tag': 'p',\n",
       "   'content': 'Remember, the goal is not to control the child, but for him or her to learn self-control.'},\n",
       "  {'tag': 'p', 'content': 'Provide a safe and secure home.'},\n",
       "  {'tag': 'p',\n",
       "   'content': 'It’s okay for children to feel afraid sometimes.\\xa0 Everyone is afraid of something at some point in their life. Fear and anxiety grow out of experiences that we do not understand.'},\n",
       "  {'tag': 'p',\n",
       "   'content': 'If your children have fears that will not go away and affect his or her behavior, the first step is to find out what is frightening them. Be loving, patient and reassuring, not critical. Remember:\\xa0 the fear may be very real to the child.'},\n",
       "  {'tag': 'p', 'content': 'Signs of Fear'},\n",
       "  {'tag': 'p',\n",
       "   'content': 'Nervous mannerisms, shyness, withdrawal and aggressive behavior may be signs of childhood fears. A change in\\xa0 normal eating and sleeping patterns may also signal an unhealthy fear. Children who “play sick” or feel anxious regularly may have some problems that need attention.'},\n",
       "  {'tag': 'p',\n",
       "   'content': 'Fear of school can occur following a stressful event such as moving to a new neighborhood, changing schools, or after a bad incident at school.'},\n",
       "  {'tag': 'p',\n",
       "   'content': 'Children may not want to go to school after a period of being at home because of an illness.'},\n",
       "  {'tag': 'p', 'content': 'When to seek help'},\n",
       "  {'tag': 'p',\n",
       "   'content': 'Parents and family members are usually the first to notice if a child has problems with emotions or behavior. Your observations with those of teachers and other caregivers may lead you to seek help for your child. If you suspect a problem or have questions, consult your pediatrician or contact a mental health professional.'},\n",
       "  {'tag': 'p', 'content': 'Warning Signs'},\n",
       "  {'tag': 'p',\n",
       "   'content': 'The following signs may indicate the need for professional assistance or evaluation:'},\n",
       "  {'tag': 'ul',\n",
       "   'content': '\\n\\nDecline in school performance\\n\\n\\nPoor grades despite strong efforts\\n\\n\\nRegular worry or anxiety\\n\\n\\nRepeated refusal to go to school or take part in normal children’s activities\\n\\n\\nHyperactivity or fidgeting\\n\\n\\nPersistent nightmares\\n\\n\\nPersistent disobedience or aggression\\n\\n\\nFrequent temper tantrums\\n\\n\\nDepression, sadness or irritability\\n\\n'},\n",
       "  {'tag': 'div',\n",
       "   'content': '\\nLearn more about specific mental health conditions and children \\n\\n\\n\\nADHD - attentional problems\\n\\n\\nAutism - developmental delay\\n\\n\\nBipolar Disorder - depression and high energy\\n\\n\\nConduct Disorder - behavioral problems\\n\\n\\nDepression - sadness\\n\\n\\nGrief - coping with loss\\n\\n\\nPsychosis - hearing voices or seeing things that aren\\'t there\\n\\n\\nSuicide - thoughts of death/dying\\n\\n\\nSubstance use - drinking and using drugs\\n\\n\\n\\n\\nWhere to seek help\\n\\nInformation and referrals regarding the types of services that are available for children may be obtained from:\\n\\n\\nMental health organizations, hotlines and libraries\\n\\n\\nOther professionals such as the child’s pediatrician or school counselor\\n\\n\\nOther families in the community\\n\\n\\nFamily network organizations\\n\\n\\nCommunity-based psychiatric care\\n\\n\\nCrisis outreach teams\\n\\n\\nEducation or special education services\\n\\n\\nFamily resource centers and support groups\\n\\n\\nHealth services\\n\\n\\nProtection and advocacy groups and organizations\\n\\n\\nSelf-help and support groups\\n\\n\\nOther Resources\\nAmerican Academy of Child and Adolescent Psychiatry\\nwww.aacap.org\\nFederation of Families for Children’s Mental Health\\n\\t\\t\\t\\tPhone: 703-684-7710\\nwww.ffcmh.org\\nFamily Support America\\n\\t\\t\\t\\tPhone: 312-338-0900\\n\\nNational Association of School Psychologists\\n\\t\\t\\t\\tPhone 301-657-0270\\nwww.naspweb.org\\nWhat Every Child Needs for Good Mental Health is one in a series of pamphlets on children and teen mental health.\\nOther Mental Health America titles include:\\n\\n\\n\\nTeen Eating Disorders\\n\\n\\n\\n\\n\\nTeen Depression and Suicide\\n\\n\\nTeen Self-esteem Feeling Good About Yourself\\n\\n\\nTeen Stress: A Guide to Surviving Stress\\n\\n\\nSOURCES\\n“Facts for Families,\" America Academy of Child and Adolescent Psychiatry\\n\\t\\t\\t\\t“Children’s and Adolescent’s Mental Health,\" US Dept. of Health and Human Services\\n\\t\\t\\t\\tcopyright 1997 revised 2/00\\nThis pamphlet is copyrighted.\\xa0 Permission to reprint must be obtained from Mental Health America. 2/00\\n\\n\\xa0\\n\\n'},\n",
       "  {'tag': 'p', 'content': '\\xa0'}]}"
      ]
     },
     "execution_count": 47,
     "metadata": {},
     "output_type": "execute_result"
    }
   ],
   "source": [
    "open_json(5)"
   ]
  },
  {
   "cell_type": "code",
   "execution_count": null,
   "metadata": {},
   "outputs": [],
   "source": []
  },
  {
   "cell_type": "code",
   "execution_count": 59,
   "metadata": {},
   "outputs": [],
   "source": [
    "json_data = open_json(5)"
   ]
  },
  {
   "cell_type": "code",
   "execution_count": null,
   "metadata": {},
   "outputs": [],
   "source": []
  },
  {
   "cell_type": "code",
   "execution_count": null,
   "metadata": {},
   "outputs": [],
   "source": [
    "# def title_source_contents_dict(json_data):\n",
    "#     c_title = json_data['title']\n",
    "#     c_source = json_data['source']\n",
    "#     c_contents = json_data['contents']\n",
    "    \n",
    "#     return ({'title':})"
   ]
  },
  {
   "cell_type": "code",
   "execution_count": null,
   "metadata": {},
   "outputs": [],
   "source": []
  },
  {
   "cell_type": "code",
   "execution_count": null,
   "metadata": {},
   "outputs": [],
   "source": []
  },
  {
   "cell_type": "code",
   "execution_count": 60,
   "metadata": {},
   "outputs": [],
   "source": [
    "c_title = json_data['title']"
   ]
  },
  {
   "cell_type": "code",
   "execution_count": 61,
   "metadata": {},
   "outputs": [],
   "source": [
    "c_source = json_data['source']"
   ]
  },
  {
   "cell_type": "code",
   "execution_count": 62,
   "metadata": {},
   "outputs": [],
   "source": [
    "c_contents = json_data['contents']"
   ]
  },
  {
   "cell_type": "code",
   "execution_count": 65,
   "metadata": {},
   "outputs": [
    {
     "name": "stdout",
     "output_type": "stream",
     "text": [
      "p\n",
      "It is easy for parents to identify their child’s physical needs: nutritious food, warm clothes when it’s cold, bedtime at a reasonable hour. However, a child’s mental and emotional needs may not be as obvious. Good mental health allows children to think clearly, develop socially and learn new skills.  Additionally, good friends and  encouraging words from adults are all important for helping children develop self confidence, high self-esteem, and a healthy emotional outlook on life.\n",
      "\n",
      "p\n",
      "A child’s physical and mental health are both important.\n",
      "\n",
      "p\n",
      "Basics for a child’s good physical health:\n",
      "\n",
      "ul\n",
      "\n",
      "\n",
      "Nutritious food\n",
      "\n",
      "\n",
      "Adequate shelter and sleep\n",
      "\n",
      "\n",
      "Exercise\n",
      "\n",
      "\n",
      "Immunizations\n",
      "\n",
      "\n",
      "Healthy living environment\n",
      "\n",
      "\n",
      "\n",
      "p\n",
      "Basics for a child’s good mental health:\n",
      "\n",
      "ul\n",
      "\n",
      "\n",
      "Unconditional love from family\n",
      "\n",
      "\n",
      "Self-confidence and high self-esteem\n",
      "\n",
      "\n",
      "The opportunity to play with other children\n",
      "\n",
      "\n",
      "Encouraging teachers and supportive caretakers\n",
      "\n",
      "\n",
      "Safe and secure surroundings\n",
      "\n",
      "\n",
      "Appropriate guidance and discipline\n",
      "\n",
      "\n",
      "\n",
      "p\n",
      "Give children unconditional love.\n",
      "\n",
      "p\n",
      "Love, security and acceptance should be at the heart of family life.  Children need to know that your love does not depend on his or her accomplishments.\n",
      "\n",
      "p\n",
      "Mistakes and/or defeats should be expected and accepted. Confidence grows in a home that is full of unconditional love and affection.\n",
      "\n",
      "p\n",
      "Nurture children’s confidence and self-esteem.\n",
      "\n",
      "ul\n",
      "\n",
      "\n",
      "Praise Them - Encouraging children’s first steps or their ability to learn a new game helps them develop a desire to explore and learn about their surroundings. Allow children to explore and play in a safe area where they cannot get hurt.  Assure them by smiling and talking to them often. Be an active participant in their activities. Your attention helps build their self-confidence and self-esteem.\n",
      "\n",
      "\n",
      "Set Realistic Goals - Young children need realistic goals that match their ambitions with their abilities. With your help, older children can choose activities that test their abilities and increase their self-confidence.\n",
      "\n",
      "\n",
      "Be Honest - Do not hide your failures from your children. It is important for them to know that we all make mistakes. It can be very re-assuring to know that adults are not perfect.\n",
      "\n",
      "\n",
      "Avoid Sarcastic Remarks - If a child loses a game or fails a test, find out how he or she feels about the situation. Children may get discouraged and need a pep talk. Later, when they are ready, talk and offer assurance.\n",
      "\n",
      "\n",
      "Encourage children - To not only strive to do their best, but also to enjoy the process. Trying new activities teaches children about teamwork, self-esteem and new skills.\n",
      "\n",
      "\n",
      "\n",
      "p\n",
      "Make time for play!\n",
      "\n",
      "p\n",
      "Encourage Children to Play\n",
      "\n",
      "p\n",
      "To children, play is just fun. However, playtime is as important to their development as food and good care. Playtime helps children be creative, learn problem-solving skills and learn self-control.  Good, hardy play, which includes running and yelling, is not only fun, but helps children to be physically and mentally healthy.\n",
      "\n",
      "p\n",
      "Children Need Playmates\n",
      "\n",
      "p\n",
      "Sometimes it is important for children to have time with their peers.  By playing with others, children discover their strengths and weaknesses, develop a sense of belonging, and learn how to get along with others. Consider finding a good children’s program through neighbors, local community centers, schools, or your local park and recreation department.\n",
      "\n",
      "p\n",
      "Parents Can be Great Playmates\n",
      "\n",
      "p\n",
      "Join the fun! Playing Monopoly or coloring with a child gives you a great opportunity to share ideas and spend time together in a relaxed setting.\n",
      "\n",
      "p\n",
      "Play for Fun\n",
      "\n",
      "p\n",
      "Winning is not as important as being involved and enjoying the activity. One of the most important questions to ask children is “Did you have fun?’’ not “Did you win?”\n",
      "\n",
      "p\n",
      "In our goal-oriented society, we often acknowledge only success and winning. This attitude can be discouraging and frustrating to children who are learning and experimenting with new activities. It’s more important for children to participate and enjoy themselves.\n",
      "\n",
      "p\n",
      "TV use should be monitored\n",
      "\n",
      "p\n",
      "Try not to use TV as a “baby-sitter” on a regular basis.  Be selective in choosing television shows for children. Some shows can be educational as well as entertaining.\n",
      "\n",
      "p\n",
      "School should be fun!\n",
      "\n",
      "p\n",
      "Starting school is a big event for children. “Playing school” can be a positive way to give them a glimpse of school life.\n",
      "\n",
      "p\n",
      "Try to enroll them in a pre-school, Head Start, or similar community program which provides an opportunity to be with other kids and make new friends. Children can also learn academic basics as well as how to make decisions and cope with problems.\n",
      "\n",
      "p\n",
      "Provide appropriate guidance and instructive discipline\n",
      "\n",
      "p\n",
      "Children need the opportunity to explore and develop new skills and independence. At the same time, children need to learn that certain behaviors are unacceptable and that they are responsible for the consequences of their actions.\n",
      "\n",
      "p\n",
      "As members of a family, children need to learn the rules of the family unit. Offer guidance and discipline that is fair and consistent. They will take these social skills and rules of conduct to school and eventually to the workplace.\n",
      "\n",
      "p\n",
      "Suggestions on Guidance and Discipline\n",
      "\n",
      "ul\n",
      "\n",
      "\n",
      "Be firm, but kind and realistic with your expectations. Children’s development depends on your love and encouragement.\n",
      "\n",
      "\n",
      "Set a good example. You cannot expect self-control and self-discipline from a child if you do not practice this behavior.\n",
      "\n",
      "\n",
      "\n",
      "p\n",
      "Criticize the behavior, not the child.  It is best to say, “That was a bad thing you did,” rather than “You are a bad boy or girl.”\n",
      "\n",
      "p\n",
      "Avoid nagging, threats and bribery. Children will learn to ignore nagging, and threats and bribes are seldom effective.\n",
      "\n",
      "p\n",
      "Give children the reasons “why” you are disciplining them and what the potential consequences of their actions might be.\n",
      "\n",
      "p\n",
      "Talk about your feelings.  We all lose our temper from time to time. If you do “blow your top,” it is important to talk about what happened and why you are angry.  Apologize if you were wrong!\n",
      "\n",
      "p\n",
      "Remember, the goal is not to control the child, but for him or her to learn self-control.\n",
      "\n",
      "p\n",
      "Provide a safe and secure home.\n",
      "\n",
      "p\n",
      "It’s okay for children to feel afraid sometimes.  Everyone is afraid of something at some point in their life. Fear and anxiety grow out of experiences that we do not understand.\n",
      "\n",
      "p\n",
      "If your children have fears that will not go away and affect his or her behavior, the first step is to find out what is frightening them. Be loving, patient and reassuring, not critical. Remember:  the fear may be very real to the child.\n",
      "\n",
      "p\n",
      "Signs of Fear\n",
      "\n",
      "p\n",
      "Nervous mannerisms, shyness, withdrawal and aggressive behavior may be signs of childhood fears. A change in  normal eating and sleeping patterns may also signal an unhealthy fear. Children who “play sick” or feel anxious regularly may have some problems that need attention.\n",
      "\n",
      "p\n",
      "Fear of school can occur following a stressful event such as moving to a new neighborhood, changing schools, or after a bad incident at school.\n",
      "\n",
      "p\n",
      "Children may not want to go to school after a period of being at home because of an illness.\n",
      "\n",
      "p\n",
      "When to seek help\n",
      "\n",
      "p\n",
      "Parents and family members are usually the first to notice if a child has problems with emotions or behavior. Your observations with those of teachers and other caregivers may lead you to seek help for your child. If you suspect a problem or have questions, consult your pediatrician or contact a mental health professional.\n",
      "\n",
      "p\n",
      "Warning Signs\n",
      "\n",
      "p\n",
      "The following signs may indicate the need for professional assistance or evaluation:\n",
      "\n",
      "ul\n",
      "\n",
      "\n",
      "Decline in school performance\n",
      "\n",
      "\n",
      "Poor grades despite strong efforts\n",
      "\n",
      "\n",
      "Regular worry or anxiety\n",
      "\n",
      "\n",
      "Repeated refusal to go to school or take part in normal children’s activities\n",
      "\n",
      "\n",
      "Hyperactivity or fidgeting\n",
      "\n",
      "\n",
      "Persistent nightmares\n",
      "\n",
      "\n",
      "Persistent disobedience or aggression\n",
      "\n",
      "\n",
      "Frequent temper tantrums\n",
      "\n",
      "\n",
      "Depression, sadness or irritability\n",
      "\n",
      "\n",
      "\n",
      "div\n",
      "\n",
      "Learn more about specific mental health conditions and children \n",
      "\n",
      "\n",
      "\n",
      "ADHD - attentional problems\n",
      "\n",
      "\n",
      "Autism - developmental delay\n",
      "\n",
      "\n",
      "Bipolar Disorder - depression and high energy\n",
      "\n",
      "\n",
      "Conduct Disorder - behavioral problems\n",
      "\n",
      "\n",
      "Depression - sadness\n",
      "\n",
      "\n",
      "Grief - coping with loss\n",
      "\n",
      "\n",
      "Psychosis - hearing voices or seeing things that aren't there\n",
      "\n",
      "\n",
      "Suicide - thoughts of death/dying\n",
      "\n",
      "\n",
      "Substance use - drinking and using drugs\n",
      "\n",
      "\n",
      "\n",
      "\n",
      "Where to seek help\n",
      "\n",
      "Information and referrals regarding the types of services that are available for children may be obtained from:\n",
      "\n",
      "\n",
      "Mental health organizations, hotlines and libraries\n",
      "\n",
      "\n",
      "Other professionals such as the child’s pediatrician or school counselor\n",
      "\n",
      "\n",
      "Other families in the community\n",
      "\n",
      "\n",
      "Family network organizations\n",
      "\n",
      "\n",
      "Community-based psychiatric care\n",
      "\n",
      "\n",
      "Crisis outreach teams\n",
      "\n",
      "\n",
      "Education or special education services\n",
      "\n",
      "\n",
      "Family resource centers and support groups\n",
      "\n",
      "\n",
      "Health services\n",
      "\n",
      "\n",
      "Protection and advocacy groups and organizations\n",
      "\n",
      "\n",
      "Self-help and support groups\n",
      "\n",
      "\n",
      "Other Resources\n",
      "American Academy of Child and Adolescent Psychiatry\n",
      "www.aacap.org\n",
      "Federation of Families for Children’s Mental Health\n",
      "\t\t\t\tPhone: 703-684-7710\n",
      "www.ffcmh.org\n",
      "Family Support America\n",
      "\t\t\t\tPhone: 312-338-0900\n",
      "\n",
      "National Association of School Psychologists\n",
      "\t\t\t\tPhone 301-657-0270\n",
      "www.naspweb.org\n",
      "What Every Child Needs for Good Mental Health is one in a series of pamphlets on children and teen mental health.\n",
      "Other Mental Health America titles include:\n",
      "\n",
      "\n",
      "\n",
      "Teen Eating Disorders\n",
      "\n",
      "\n",
      "\n",
      "\n",
      "\n",
      "Teen Depression and Suicide\n",
      "\n",
      "\n",
      "Teen Self-esteem Feeling Good About Yourself\n",
      "\n",
      "\n",
      "Teen Stress: A Guide to Surviving Stress\n",
      "\n",
      "\n",
      "SOURCES\n",
      "“Facts for Families,\" America Academy of Child and Adolescent Psychiatry\n",
      "\t\t\t\t“Children’s and Adolescent’s Mental Health,\" US Dept. of Health and Human Services\n",
      "\t\t\t\tcopyright 1997 revised 2/00\n",
      "This pamphlet is copyrighted.  Permission to reprint must be obtained from Mental Health America. 2/00\n",
      "\n",
      " \n",
      "\n",
      "\n",
      "\n",
      "p\n",
      " \n",
      "\n"
     ]
    }
   ],
   "source": [
    "if (c_contents):\n",
    "    for itm in c_contents:\n",
    "        print(itm['tag'])\n",
    "        print(itm['content'])\n",
    "        print()"
   ]
  },
  {
   "cell_type": "code",
   "execution_count": null,
   "metadata": {},
   "outputs": [],
   "source": []
  },
  {
   "cell_type": "code",
   "execution_count": 63,
   "metadata": {},
   "outputs": [
    {
     "name": "stdout",
     "output_type": "stream",
     "text": [
      "What Every Child Needs For Good Mental Health\n",
      "http://www.mentalhealthamerica.net/every-child-needs\n",
      "[{'tag': 'p', 'content': 'It is easy for parents to identify their child’s physical needs: nutritious food, warm clothes when it’s cold, bedtime at a reasonable hour. However, a child’s mental and emotional needs may not be as obvious. Good mental health allows children to think clearly, develop socially and learn new skills.\\xa0 Additionally, good friends and\\xa0 encouraging words from adults are all important for helping children develop self confidence, high self-esteem, and a healthy emotional outlook on life.'}, {'tag': 'p', 'content': 'A child’s physical and mental health are both important.'}, {'tag': 'p', 'content': 'Basics for a child’s good physical health:'}, {'tag': 'ul', 'content': '\\n\\nNutritious food\\n\\n\\nAdequate shelter and sleep\\n\\n\\nExercise\\n\\n\\nImmunizations\\n\\n\\nHealthy living environment\\n\\n'}, {'tag': 'p', 'content': 'Basics for a child’s good mental health:'}, {'tag': 'ul', 'content': '\\n\\nUnconditional love from family\\n\\n\\nSelf-confidence and high self-esteem\\n\\n\\nThe opportunity to play with other children\\n\\n\\nEncouraging teachers and supportive caretakers\\n\\n\\nSafe and secure surroundings\\n\\n\\nAppropriate guidance and discipline\\n\\n'}, {'tag': 'p', 'content': 'Give children unconditional love.'}, {'tag': 'p', 'content': 'Love, security and acceptance should be at the heart of family life.\\xa0 Children need to know that your love does not depend on his or her accomplishments.'}, {'tag': 'p', 'content': 'Mistakes and/or defeats should be expected and accepted. Confidence grows in a home that is full of unconditional love and affection.'}, {'tag': 'p', 'content': 'Nurture children’s confidence and self-esteem.'}, {'tag': 'ul', 'content': '\\n\\nPraise Them - Encouraging children’s first steps or their ability to learn a new game helps them develop a desire to explore and learn about their surroundings. Allow children to explore and play in a safe area where they cannot get hurt.\\xa0 Assure them by smiling and talking to them often. Be an active participant in their activities. Your attention helps build their self-confidence and self-esteem.\\n\\n\\nSet Realistic Goals - Young children need realistic goals that match their ambitions with their abilities. With your help, older children can choose activities that test their abilities and increase their self-confidence.\\n\\n\\nBe Honest - Do not hide your failures from your children. It is important for them to know that we all make mistakes. It can be very re-assuring to know that adults are not perfect.\\n\\n\\nAvoid Sarcastic Remarks - If a child loses a game or fails a test, find out how he or she feels about the situation. Children may get discouraged and need a pep talk. Later, when they are ready, talk and offer assurance.\\n\\n\\nEncourage children - To not only strive to do their best, but also to enjoy the process. Trying new activities teaches children about teamwork, self-esteem and new skills.\\n\\n'}, {'tag': 'p', 'content': 'Make time for play!'}, {'tag': 'p', 'content': 'Encourage Children to Play'}, {'tag': 'p', 'content': 'To children, play is just fun. However, playtime is as important to their development as food and good care. Playtime helps children be creative, learn problem-solving skills and learn self-control.\\xa0 Good, hardy play, which includes running and yelling, is not only fun, but helps children to be physically and mentally healthy.'}, {'tag': 'p', 'content': 'Children Need Playmates'}, {'tag': 'p', 'content': 'Sometimes it is important for children to have time with their peers.\\xa0 By playing with others, children discover their strengths and weaknesses, develop a sense of belonging, and learn how to get along with others. Consider finding a good children’s program through neighbors, local community centers, schools, or your local park and recreation department.'}, {'tag': 'p', 'content': 'Parents Can be Great Playmates'}, {'tag': 'p', 'content': 'Join the fun! Playing Monopoly or coloring with a child gives you a great opportunity to share ideas and spend time together in a relaxed setting.'}, {'tag': 'p', 'content': 'Play for Fun'}, {'tag': 'p', 'content': 'Winning is not as important as being involved and enjoying the activity. One of the most important questions to ask children is “Did you have fun?’’ not “Did you win?”'}, {'tag': 'p', 'content': 'In our goal-oriented society, we often acknowledge only success and winning. This attitude can be discouraging and frustrating to children who are learning and experimenting with new activities. It’s more important for children to participate and enjoy themselves.'}, {'tag': 'p', 'content': 'TV use should be monitored'}, {'tag': 'p', 'content': 'Try not to use TV as a “baby-sitter” on a regular basis.\\xa0 Be selective in choosing television shows for children. Some shows can be educational as well as entertaining.'}, {'tag': 'p', 'content': 'School should be fun!'}, {'tag': 'p', 'content': 'Starting school is a big event for children. “Playing school” can be a positive way to give them a glimpse of school life.'}, {'tag': 'p', 'content': 'Try to enroll them in a pre-school, Head Start, or similar community program which provides an opportunity to be with other kids and make new friends. Children can also learn academic basics as well as how to make decisions and cope with problems.'}, {'tag': 'p', 'content': 'Provide appropriate guidance and instructive discipline'}, {'tag': 'p', 'content': 'Children need the opportunity to explore and develop new skills and independence. At the same time, children need to learn that certain behaviors are unacceptable and that they are responsible for the consequences of their actions.'}, {'tag': 'p', 'content': 'As members of a family, children need to learn the rules of the family unit. Offer guidance and discipline that is fair and consistent. They will take these social skills and rules of conduct to school and eventually to the workplace.'}, {'tag': 'p', 'content': 'Suggestions on Guidance and Discipline'}, {'tag': 'ul', 'content': '\\n\\nBe firm, but kind and realistic with your expectations. Children’s development depends on your love and encouragement.\\n\\n\\nSet a good example. You cannot expect self-control and self-discipline from a child if you do not practice this behavior.\\n\\n'}, {'tag': 'p', 'content': 'Criticize the behavior, not the child.\\xa0 It is best to say, “That was a bad thing you did,” rather than “You are a bad boy or girl.”'}, {'tag': 'p', 'content': 'Avoid nagging, threats and bribery.\\xa0Children will learn to ignore nagging, and threats and bribes are seldom effective.'}, {'tag': 'p', 'content': 'Give children the reasons “why” you are disciplining them and what the potential consequences of their actions might be.'}, {'tag': 'p', 'content': 'Talk about your feelings.\\xa0 We all lose our temper from time to time. If you do “blow your top,” it is important to talk about what happened and why you are angry.\\xa0 Apologize if you were wrong!'}, {'tag': 'p', 'content': 'Remember, the goal is not to control the child, but for him or her to learn self-control.'}, {'tag': 'p', 'content': 'Provide a safe and secure home.'}, {'tag': 'p', 'content': 'It’s okay for children to feel afraid sometimes.\\xa0 Everyone is afraid of something at some point in their life. Fear and anxiety grow out of experiences that we do not understand.'}, {'tag': 'p', 'content': 'If your children have fears that will not go away and affect his or her behavior, the first step is to find out what is frightening them. Be loving, patient and reassuring, not critical. Remember:\\xa0 the fear may be very real to the child.'}, {'tag': 'p', 'content': 'Signs of Fear'}, {'tag': 'p', 'content': 'Nervous mannerisms, shyness, withdrawal and aggressive behavior may be signs of childhood fears. A change in\\xa0 normal eating and sleeping patterns may also signal an unhealthy fear. Children who “play sick” or feel anxious regularly may have some problems that need attention.'}, {'tag': 'p', 'content': 'Fear of school can occur following a stressful event such as moving to a new neighborhood, changing schools, or after a bad incident at school.'}, {'tag': 'p', 'content': 'Children may not want to go to school after a period of being at home because of an illness.'}, {'tag': 'p', 'content': 'When to seek help'}, {'tag': 'p', 'content': 'Parents and family members are usually the first to notice if a child has problems with emotions or behavior. Your observations with those of teachers and other caregivers may lead you to seek help for your child. If you suspect a problem or have questions, consult your pediatrician or contact a mental health professional.'}, {'tag': 'p', 'content': 'Warning Signs'}, {'tag': 'p', 'content': 'The following signs may indicate the need for professional assistance or evaluation:'}, {'tag': 'ul', 'content': '\\n\\nDecline in school performance\\n\\n\\nPoor grades despite strong efforts\\n\\n\\nRegular worry or anxiety\\n\\n\\nRepeated refusal to go to school or take part in normal children’s activities\\n\\n\\nHyperactivity or fidgeting\\n\\n\\nPersistent nightmares\\n\\n\\nPersistent disobedience or aggression\\n\\n\\nFrequent temper tantrums\\n\\n\\nDepression, sadness or irritability\\n\\n'}, {'tag': 'div', 'content': '\\nLearn more about specific mental health conditions and children \\n\\n\\n\\nADHD - attentional problems\\n\\n\\nAutism - developmental delay\\n\\n\\nBipolar Disorder - depression and high energy\\n\\n\\nConduct Disorder - behavioral problems\\n\\n\\nDepression - sadness\\n\\n\\nGrief - coping with loss\\n\\n\\nPsychosis - hearing voices or seeing things that aren\\'t there\\n\\n\\nSuicide - thoughts of death/dying\\n\\n\\nSubstance use - drinking and using drugs\\n\\n\\n\\n\\nWhere to seek help\\n\\nInformation and referrals regarding the types of services that are available for children may be obtained from:\\n\\n\\nMental health organizations, hotlines and libraries\\n\\n\\nOther professionals such as the child’s pediatrician or school counselor\\n\\n\\nOther families in the community\\n\\n\\nFamily network organizations\\n\\n\\nCommunity-based psychiatric care\\n\\n\\nCrisis outreach teams\\n\\n\\nEducation or special education services\\n\\n\\nFamily resource centers and support groups\\n\\n\\nHealth services\\n\\n\\nProtection and advocacy groups and organizations\\n\\n\\nSelf-help and support groups\\n\\n\\nOther Resources\\nAmerican Academy of Child and Adolescent Psychiatry\\nwww.aacap.org\\nFederation of Families for Children’s Mental Health\\n\\t\\t\\t\\tPhone: 703-684-7710\\nwww.ffcmh.org\\nFamily Support America\\n\\t\\t\\t\\tPhone: 312-338-0900\\n\\nNational Association of School Psychologists\\n\\t\\t\\t\\tPhone 301-657-0270\\nwww.naspweb.org\\nWhat Every Child Needs for Good Mental Health is one in a series of pamphlets on children and teen mental health.\\nOther Mental Health America titles include:\\n\\n\\n\\nTeen Eating Disorders\\n\\n\\n\\n\\n\\nTeen Depression and Suicide\\n\\n\\nTeen Self-esteem Feeling Good About Yourself\\n\\n\\nTeen Stress: A Guide to Surviving Stress\\n\\n\\nSOURCES\\n“Facts for Families,\" America Academy of Child and Adolescent Psychiatry\\n\\t\\t\\t\\t“Children’s and Adolescent’s Mental Health,\" US Dept. of Health and Human Services\\n\\t\\t\\t\\tcopyright 1997 revised 2/00\\nThis pamphlet is copyrighted.\\xa0 Permission to reprint must be obtained from Mental Health America. 2/00\\n\\n\\xa0\\n\\n'}, {'tag': 'p', 'content': '\\xa0'}]\n"
     ]
    }
   ],
   "source": [
    "print(c_title)\n",
    "print(c_source)\n",
    "print(c_contents)"
   ]
  },
  {
   "cell_type": "code",
   "execution_count": null,
   "metadata": {},
   "outputs": [],
   "source": []
  },
  {
   "cell_type": "code",
   "execution_count": 66,
   "metadata": {},
   "outputs": [
    {
     "data": {
      "text/plain": [
       "[]"
      ]
     },
     "execution_count": 66,
     "metadata": {},
     "output_type": "execute_result"
    }
   ],
   "source": [
    "open_img(5)"
   ]
  },
  {
   "cell_type": "code",
   "execution_count": 91,
   "metadata": {},
   "outputs": [
    {
     "name": "stdout",
     "output_type": "stream",
     "text": [
      "12\n",
      "{'img': 'http://www.mentalhealthamerica.net/sites/default/files/1_start_fresh_MHA.jpg', 'style': 'float:left; margin-left:10px; margin-right:10px; width:125px'}\n",
      "http://www.mentalhealthamerica.net/sites/default/files/1_start_fresh_MHA.jpg\n",
      "float:left; margin-left:10px; margin-right:10px; width:125px\n",
      "\n",
      "{'img': 'http://www.mentalhealthamerica.net/sites/default/files/2_Draw_on_past_experiences_but_dont_rely_on_Them.jpg', 'style': 'float:left; margin-left:10px; margin-right:10px; width:125px'}\n",
      "http://www.mentalhealthamerica.net/sites/default/files/2_Draw_on_past_experiences_but_dont_rely_on_Them.jpg\n",
      "float:left; margin-left:10px; margin-right:10px; width:125px\n",
      "\n",
      "{'img': 'http://www.mentalhealthamerica.net/sites/default/files/3_put_yourself_in_the_right_frame_of_mind.jpg', 'style': 'float:left; margin-left:10px; margin-right:10px; width:125px'}\n",
      "http://www.mentalhealthamerica.net/sites/default/files/3_put_yourself_in_the_right_frame_of_mind.jpg\n",
      "float:left; margin-left:10px; margin-right:10px; width:125px\n",
      "\n",
      "{'img': 'http://www.mentalhealthamerica.net/sites/default/files/4_expect_some_disorganization_and_forgetfulness.jpg', 'style': 'float:left; margin-left:10px; margin-right:10px; width:125px'}\n",
      "http://www.mentalhealthamerica.net/sites/default/files/4_expect_some_disorganization_and_forgetfulness.jpg\n",
      "float:left; margin-left:10px; margin-right:10px; width:125px\n",
      "\n",
      "{'img': 'http://www.mentalhealthamerica.net/sites/default/files/5_reduce_classroom_stress.jpg', 'style': 'float:left; margin-left:10px; margin-right:10px; width:125px'}\n",
      "http://www.mentalhealthamerica.net/sites/default/files/5_reduce_classroom_stress.jpg\n",
      "float:left; margin-left:10px; margin-right:10px; width:125px\n",
      "\n",
      "{'img': 'http://www.mentalhealthamerica.net/sites/default/files/6_look_into_evidence_based_programs_that_support_social_and_Emotional_learning.jpg', 'style': 'float:left; margin-left:10px; margin-right:10px; width:125px'}\n",
      "http://www.mentalhealthamerica.net/sites/default/files/6_look_into_evidence_based_programs_that_support_social_and_Emotional_learning.jpg\n",
      "float:left; margin-left:10px; margin-right:10px; width:125px\n",
      "\n",
      "{'img': 'http://www.mentalhealthamerica.net/sites/default/files/7_find_the_good_and_praise_it.jpg', 'style': 'float:left; margin-left:10px; margin-right:10px; width:125px'}\n",
      "http://www.mentalhealthamerica.net/sites/default/files/7_find_the_good_and_praise_it.jpg\n",
      "float:left; margin-left:10px; margin-right:10px; width:125px\n",
      "\n",
      "{'img': 'http://www.mentalhealthamerica.net/sites/default/files/8_be_familiar_with_options_To_accomodations.jpg', 'style': 'float:left; margin-left:10px; margin-right:10px; width:125px'}\n",
      "http://www.mentalhealthamerica.net/sites/default/files/8_be_familiar_with_options_To_accomodations.jpg\n",
      "float:left; margin-left:10px; margin-right:10px; width:125px\n",
      "\n",
      "{'img': 'http://www.mentalhealthamerica.net/sites/default/files/9_avoid_embarrassment.jpg', 'style': 'float:left; margin-left:10px; margin-right:10px; width:125px'}\n",
      "http://www.mentalhealthamerica.net/sites/default/files/9_avoid_embarrassment.jpg\n",
      "float:left; margin-left:10px; margin-right:10px; width:125px\n",
      "\n",
      "{'img': 'http://www.mentalhealthamerica.net/sites/default/files/10_exercise_compassion.jpg', 'style': 'float:left; margin-left:10px; margin-right:10px; width:125px'}\n",
      "http://www.mentalhealthamerica.net/sites/default/files/10_exercise_compassion.jpg\n",
      "float:left; margin-left:10px; margin-right:10px; width:125px\n",
      "\n",
      "{'img': 'http://www.mentalhealthamerica.net/sites/default/files/11_work_with_Parents.jpg', 'style': 'float:left; margin-left:10px; margin-right:10px; width:125px'}\n",
      "http://www.mentalhealthamerica.net/sites/default/files/11_work_with_Parents.jpg\n",
      "float:left; margin-left:10px; margin-right:10px; width:125px\n",
      "\n",
      "{'img': 'http://www.mentalhealthamerica.net/sites/default/files/12_make_Time_For_self_care.jpg', 'style': 'float:left; margin-left:10px; margin-right:10px; width:125px'}\n",
      "http://www.mentalhealthamerica.net/sites/default/files/12_make_Time_For_self_care.jpg\n",
      "float:left; margin-left:10px; margin-right:10px; width:125px\n",
      "\n"
     ]
    }
   ],
   "source": [
    "img_lst = open_img(6)\n",
    "\n",
    "len(img_lst)\n",
    "\n",
    "print(len(img_lst))\n",
    "\n",
    "if(img_lst):\n",
    "    for itm in img_lst:\n",
    "        itm = json.loads(itm)\n",
    "        c_img_url = itm['img']\n",
    "        c_img_style = itm['style']\n",
    "\n",
    "        print(itm)\n",
    "        print(c_img_url)\n",
    "        print(c_img_style)\n",
    "        print()\n",
    "else:\n",
    "    print(None)"
   ]
  },
  {
   "cell_type": "code",
   "execution_count": null,
   "metadata": {},
   "outputs": [],
   "source": []
  },
  {
   "cell_type": "code",
   "execution_count": null,
   "metadata": {},
   "outputs": [],
   "source": []
  },
  {
   "cell_type": "code",
   "execution_count": null,
   "metadata": {},
   "outputs": [],
   "source": []
  },
  {
   "cell_type": "code",
   "execution_count": 48,
   "metadata": {},
   "outputs": [
    {
     "data": {
      "text/plain": [
       "['{\"img\": \"http://www.mentalhealthamerica.net/sites/default/files/Peer%20support%20changes%20lives.%20%283%29.png\", \"style\": \"width: 665px; height: 184px;\"}']"
      ]
     },
     "execution_count": 48,
     "metadata": {},
     "output_type": "execute_result"
    }
   ],
   "source": [
    "open_img(4)"
   ]
  },
  {
   "cell_type": "code",
   "execution_count": 49,
   "metadata": {},
   "outputs": [
    {
     "data": {
      "text/plain": [
       "[]"
      ]
     },
     "execution_count": 49,
     "metadata": {},
     "output_type": "execute_result"
    }
   ],
   "source": [
    "open_img(5)"
   ]
  },
  {
   "cell_type": "code",
   "execution_count": 50,
   "metadata": {},
   "outputs": [
    {
     "data": {
      "text/plain": [
       "['{\"img\": \"http://www.mentalhealthamerica.net/sites/default/files/1_start_fresh_MHA.jpg\", \"style\": \"float:left; margin-left:10px; margin-right:10px; width:125px\"}',\n",
       " '{\"img\": \"http://www.mentalhealthamerica.net/sites/default/files/2_Draw_on_past_experiences_but_dont_rely_on_Them.jpg\", \"style\": \"float:left; margin-left:10px; margin-right:10px; width:125px\"}',\n",
       " '{\"img\": \"http://www.mentalhealthamerica.net/sites/default/files/3_put_yourself_in_the_right_frame_of_mind.jpg\", \"style\": \"float:left; margin-left:10px; margin-right:10px; width:125px\"}',\n",
       " '{\"img\": \"http://www.mentalhealthamerica.net/sites/default/files/4_expect_some_disorganization_and_forgetfulness.jpg\", \"style\": \"float:left; margin-left:10px; margin-right:10px; width:125px\"}',\n",
       " '{\"img\": \"http://www.mentalhealthamerica.net/sites/default/files/5_reduce_classroom_stress.jpg\", \"style\": \"float:left; margin-left:10px; margin-right:10px; width:125px\"}',\n",
       " '{\"img\": \"http://www.mentalhealthamerica.net/sites/default/files/6_look_into_evidence_based_programs_that_support_social_and_Emotional_learning.jpg\", \"style\": \"float:left; margin-left:10px; margin-right:10px; width:125px\"}',\n",
       " '{\"img\": \"http://www.mentalhealthamerica.net/sites/default/files/7_find_the_good_and_praise_it.jpg\", \"style\": \"float:left; margin-left:10px; margin-right:10px; width:125px\"}',\n",
       " '{\"img\": \"http://www.mentalhealthamerica.net/sites/default/files/8_be_familiar_with_options_To_accomodations.jpg\", \"style\": \"float:left; margin-left:10px; margin-right:10px; width:125px\"}',\n",
       " '{\"img\": \"http://www.mentalhealthamerica.net/sites/default/files/9_avoid_embarrassment.jpg\", \"style\": \"float:left; margin-left:10px; margin-right:10px; width:125px\"}',\n",
       " '{\"img\": \"http://www.mentalhealthamerica.net/sites/default/files/10_exercise_compassion.jpg\", \"style\": \"float:left; margin-left:10px; margin-right:10px; width:125px\"}',\n",
       " '{\"img\": \"http://www.mentalhealthamerica.net/sites/default/files/11_work_with_Parents.jpg\", \"style\": \"float:left; margin-left:10px; margin-right:10px; width:125px\"}',\n",
       " '{\"img\": \"http://www.mentalhealthamerica.net/sites/default/files/12_make_Time_For_self_care.jpg\", \"style\": \"float:left; margin-left:10px; margin-right:10px; width:125px\"}']"
      ]
     },
     "execution_count": 50,
     "metadata": {},
     "output_type": "execute_result"
    }
   ],
   "source": [
    "open_img(6)"
   ]
  },
  {
   "cell_type": "code",
   "execution_count": null,
   "metadata": {},
   "outputs": [],
   "source": []
  },
  {
   "cell_type": "code",
   "execution_count": 44,
   "metadata": {},
   "outputs": [],
   "source": [
    "with open(\"AMA Resources/img\" + str(6)) as complex_data:\n",
    "    data = complex_data.read()\n",
    "    data = json.loads(data)\n",
    "    if (data):\n",
    "        data = json.loads(data[0])\n",
    "    else:\n",
    "        data = None\n",
    "        "
   ]
  },
  {
   "cell_type": "code",
   "execution_count": 45,
   "metadata": {},
   "outputs": [
    {
     "name": "stdout",
     "output_type": "stream",
     "text": [
      "{'img': 'http://www.mentalhealthamerica.net/sites/default/files/1_start_fresh_MHA.jpg', 'style': 'float:left; margin-left:10px; margin-right:10px; width:125px'}\n"
     ]
    }
   ],
   "source": [
    "print(data)"
   ]
  },
  {
   "cell_type": "code",
   "execution_count": null,
   "metadata": {},
   "outputs": [],
   "source": []
  }
 ],
 "metadata": {
  "kernelspec": {
   "display_name": "Python 3",
   "language": "python",
   "name": "python3"
  },
  "language_info": {
   "codemirror_mode": {
    "name": "ipython",
    "version": 3
   },
   "file_extension": ".py",
   "mimetype": "text/x-python",
   "name": "python",
   "nbconvert_exporter": "python",
   "pygments_lexer": "ipython3",
   "version": "3.6.6"
  }
 },
 "nbformat": 4,
 "nbformat_minor": 2
}
