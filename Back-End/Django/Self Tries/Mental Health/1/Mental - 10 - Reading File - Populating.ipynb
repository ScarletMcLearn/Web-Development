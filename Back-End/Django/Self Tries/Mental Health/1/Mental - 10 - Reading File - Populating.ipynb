{
 "cells": [
  {
   "cell_type": "code",
   "execution_count": 4,
   "metadata": {},
   "outputs": [
    {
     "data": {
      "text/plain": [
       "'[\"{\\\\\"img\\\\\": \\\\\"http://www.mentalhealthamerica.net/sites/default/files/journal.jpg\\\\\", \\\\\"style\\\\\": \\\\\"width: 400px; height: 267px;\\\\\"}\", \"{\\\\\"img\\\\\": \\\\\"http://www.mentalhealthamerica.net/sites/default/files/happy%20coffee.jpg\\\\\", \\\\\"style\\\\\": \\\\\"width: 400px; height: 300px;\\\\\"}\", \"{\\\\\"img\\\\\": \\\\\"http://www.mentalhealthamerica.net/sites/default/files/silhouettes%20at%20lake.jpg\\\\\", \\\\\"style\\\\\": \\\\\"width: 400px; height: 300px;\\\\\"}\", \"{\\\\\"img\\\\\": \\\\\"http://www.mentalhealthamerica.net/sites/default/files/you%27ve%20got%20this.jpg\\\\\", \\\\\"style\\\\\": \\\\\"width: 400px; height: 263px;\\\\\"}\", \"{\\\\\"img\\\\\": \\\\\"http://www.mentalhealthamerica.net/sites/default/files/sleeping%20feet.jpg\\\\\", \\\\\"style\\\\\": \\\\\"width: 400px; height: 265px;\\\\\"}\", \"{\\\\\"img\\\\\": \\\\\"http://www.mentalhealthamerica.net/sites/default/files/stairs.jpg\\\\\", \\\\\"style\\\\\": \\\\\"width: 400px; height: 267px;\\\\\"}\", \"{\\\\\"img\\\\\": \\\\\"http://www.mentalhealthamerica.net/sites/default/files/craft%20supplies.jpg\\\\\", \\\\\"style\\\\\": \\\\\"width: 400px; height: 265px;\\\\\"}\", \"{\\\\\"img\\\\\": \\\\\"http://www.mentalhealthamerica.net/sites/default/files/happy%20aa%20couple.jpg\\\\\", \\\\\"style\\\\\": \\\\\"width: 400px; height: 267px;\\\\\"}\", \"{\\\\\"img\\\\\": \\\\\"http://www.mentalhealthamerica.net/sites/default/files/chocolate%20heart.gif\\\\\", \\\\\"style\\\\\": \\\\\"width: 240px; height: 320px;\\\\\"}\", \"{\\\\\"img\\\\\": \\\\\"http://www.mentalhealthamerica.net/sites/default/files/MHM%202016%20Social%20Media%20Images-Twitter%20Header%203.png\\\\\", \\\\\"style\\\\\": \\\\\"width: 600px; height: 200px;\\\\\"}\", \"{\\\\\"img\\\\\": \\\\\"http://www.mentalhealthamerica.net/sites/default/files/coloring.jpg\\\\\", \\\\\"style\\\\\": \\\\\"width: 400px; height: 304px;\\\\\"}\", \"{\\\\\"img\\\\\": \\\\\"http://www.mentalhealthamerica.net/sites/default/files/Drop-Your-Phone-in-the-Basket.jpg\\\\\", \\\\\"style\\\\\": \\\\\"width: 400px; height: 533px;\\\\\"}\", \"{\\\\\"img\\\\\": \\\\\"http://www.mentalhealthamerica.net/sites/default/files/ethnically%20ambiguous%20woman%20writing%20web.jpg\\\\\", \\\\\"style\\\\\": \\\\\"width: 400px; height: 400px;\\\\\"}\", \"{\\\\\"img\\\\\": \\\\\"http://www.mentalhealthamerica.net/sites/default/files/blissful%20b2.jpg\\\\\", \\\\\"style\\\\\": \\\\\"width: 400px; height: 300px;\\\\\"}\", \"{\\\\\"img\\\\\": \\\\\"http://www.mentalhealthamerica.net/sites/default/files/sunny%20silhouette%20stretching%20on%20beach%20web.jpg\\\\\", \\\\\"style\\\\\": \\\\\"width: 400px; height: 241px;\\\\\"}\", \"{\\\\\"img\\\\\": \\\\\"http://www.mentalhealthamerica.net/sites/default/files/home%20town%20tourist.jpg\\\\\", \\\\\"style\\\\\": \\\\\"width: 400px; height: 300px;\\\\\"}\", \"{\\\\\"img\\\\\": \\\\\"http://www.mentalhealthamerica.net/sites/default/files/meal%20prep.jpg\\\\\", \\\\\"style\\\\\": \\\\\"height: 400px; width: 400px;\\\\\"}\", \"{\\\\\"img\\\\\": \\\\\"http://www.mentalhealthamerica.net/sites/default/files/fishoil.jpg\\\\\", \\\\\"style\\\\\": \\\\\"width: 400px; height: 313px;\\\\\"}\", \"{\\\\\"img\\\\\": \\\\\"http://www.mentalhealthamerica.net/sites/default/files/TrafficJamFrustration.jpg\\\\\", \\\\\"style\\\\\": \\\\\"width: 400px; height: 265px;\\\\\"}\", \"{\\\\\"img\\\\\": \\\\\"http://www.mentalhealthamerica.net/sites/default/files/silver%20lining.jpg\\\\\", \\\\\"style\\\\\": \\\\\"width: 400px; height: 267px;\\\\\"}\", \"{\\\\\"img\\\\\": \\\\\"http://www.mentalhealthamerica.net/sites/default/files/thank%20you%20for%20being%20a%20friend.jpg\\\\\", \\\\\"style\\\\\": \\\\\"width: 400px; height: 400px;\\\\\"}\", \"{\\\\\"img\\\\\": \\\\\"http://www.mentalhealthamerica.net/sites/default/files/bubbles%20in%20the%20park.jpg\\\\\", \\\\\"style\\\\\": \\\\\"width: 400px; height: 267px;\\\\\"}\", \"{\\\\\"img\\\\\": \\\\\"http://www.mentalhealthamerica.net/sites/default/files/3%20people%20of%20different%20ethnicity%20walking%20in%20park%20web.jpg\\\\\", \\\\\"style\\\\\": \\\\\"height: 600px; width: 400px;\\\\\"}\", \"{\\\\\"img\\\\\": \\\\\"http://www.mentalhealthamerica.net/sites/default/files/hiking%20in%20the%20sun%20web.jpg\\\\\", \\\\\"style\\\\\": \\\\\"width: 400px; height: 266px;\\\\\"}\", \"{\\\\\"img\\\\\": \\\\\"http://www.mentalhealthamerica.net/sites/default/files/hot%20air%20balloon%20at%20night.jpg\\\\\", \\\\\"style\\\\\": \\\\\"width: 400px; height: 235px;\\\\\"}\"]'"
      ]
     },
     "execution_count": 4,
     "metadata": {},
     "output_type": "execute_result"
    }
   ],
   "source": [
    "import json\n",
    "\n",
    "with open(\"AMA Resources/img0\") as complex_data:\n",
    "     data = complex_data.read()\n",
    "     numbers = json.loads(data)\n",
    "    \n",
    "    \n",
    "data"
   ]
  },
  {
   "cell_type": "code",
   "execution_count": 8,
   "metadata": {},
   "outputs": [
    {
     "data": {
      "text/plain": [
       "str"
      ]
     },
     "execution_count": 8,
     "metadata": {},
     "output_type": "execute_result"
    }
   ],
   "source": [
    "type(data)"
   ]
  },
  {
   "cell_type": "code",
   "execution_count": 9,
   "metadata": {},
   "outputs": [],
   "source": [
    "def _json_object_hook(d): return namedtuple('X', d.keys())(*d.values())\n",
    "def json2obj(data): return json.loads(data, object_hook=_json_object_hook)\n",
    "\n",
    "x = json2obj(data)"
   ]
  },
  {
   "cell_type": "code",
   "execution_count": 11,
   "metadata": {},
   "outputs": [
    {
     "data": {
      "text/plain": [
       "list"
      ]
     },
     "execution_count": 11,
     "metadata": {},
     "output_type": "execute_result"
    }
   ],
   "source": [
    "type(x)"
   ]
  },
  {
   "cell_type": "code",
   "execution_count": 17,
   "metadata": {},
   "outputs": [],
   "source": [
    "user_data = json.loads(data)"
   ]
  },
  {
   "cell_type": "code",
   "execution_count": 20,
   "metadata": {},
   "outputs": [],
   "source": [
    "user_data = json.loads(user_data[0])"
   ]
  },
  {
   "cell_type": "code",
   "execution_count": 21,
   "metadata": {},
   "outputs": [
    {
     "data": {
      "text/plain": [
       "{'img': 'http://www.mentalhealthamerica.net/sites/default/files/journal.jpg',\n",
       " 'style': 'width: 400px; height: 267px;'}"
      ]
     },
     "execution_count": 21,
     "metadata": {},
     "output_type": "execute_result"
    }
   ],
   "source": [
    "user_data"
   ]
  },
  {
   "cell_type": "code",
   "execution_count": 22,
   "metadata": {},
   "outputs": [
    {
     "data": {
      "text/plain": [
       "'http://www.mentalhealthamerica.net/sites/default/files/journal.jpg'"
      ]
     },
     "execution_count": 22,
     "metadata": {},
     "output_type": "execute_result"
    }
   ],
   "source": [
    "user_data['img']"
   ]
  },
  {
   "cell_type": "code",
   "execution_count": null,
   "metadata": {},
   "outputs": [],
   "source": []
  },
  {
   "cell_type": "code",
   "execution_count": null,
   "metadata": {},
   "outputs": [],
   "source": []
  },
  {
   "cell_type": "code",
   "execution_count": 23,
   "metadata": {},
   "outputs": [],
   "source": [
    "import json\n",
    "\n",
    "with open(\"AMA Resources/img0\") as complex_data:\n",
    "     data = complex_data.read()\n",
    "     data = json.loads(data)\n",
    "     data = json.loads(data[0])"
   ]
  },
  {
   "cell_type": "code",
   "execution_count": 25,
   "metadata": {},
   "outputs": [
    {
     "data": {
      "text/plain": [
       "'width: 400px; height: 267px;'"
      ]
     },
     "execution_count": 25,
     "metadata": {},
     "output_type": "execute_result"
    }
   ],
   "source": [
    "data['style']"
   ]
  },
  {
   "cell_type": "code",
   "execution_count": null,
   "metadata": {},
   "outputs": [],
   "source": []
  }
 ],
 "metadata": {
  "kernelspec": {
   "display_name": "Python 3",
   "language": "python",
   "name": "python3"
  },
  "language_info": {
   "codemirror_mode": {
    "name": "ipython",
    "version": 3
   },
   "file_extension": ".py",
   "mimetype": "text/x-python",
   "name": "python",
   "nbconvert_exporter": "python",
   "pygments_lexer": "ipython3",
   "version": "3.6.6"
  }
 },
 "nbformat": 4,
 "nbformat_minor": 2
}
