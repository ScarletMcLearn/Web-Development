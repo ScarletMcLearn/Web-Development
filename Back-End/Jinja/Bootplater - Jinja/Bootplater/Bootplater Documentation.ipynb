{
 "cells": [
  {
   "cell_type": "markdown",
   "metadata": {},
   "source": [
    "# Bootplater\n",
    "\n",
    " A Python solution to generating web pages with Bootstrap.   \n"
   ]
  },
  {
   "cell_type": "markdown",
   "metadata": {},
   "source": [
    "# Installing Bootplater\n",
    "\n",
    "## Step 1:\n",
    "Download the [repository](). (Link: - - )\n",
    "\n",
    "## Step 2:\n",
    "Install the [required]() dependencies.\n",
    " - Bootplater uses Jinja2 and Python 3\n",
    " The environment used is in the requirements.txt file.\n",
    " \n",
    " Create the environment using: <pre>conda create -n new environment --file requirements.txt </pre>"
   ]
  },
  {
   "cell_type": "markdown",
   "metadata": {},
   "source": [
    "## Step 3:\n",
    "Run Bootplater.py, Go through the Interactive Wizard and your HTML files with Bootstrap included and Navbar items enabled will be generated in the same directory.\n",
    "\n",
    "## Step 4:\n",
    "Copy the HTML files to another directory and use it. There's no hassle of CSS and Javascript files as it gets included with the CDN by the code generated.\n",
    "\n",
    "## Step 5:\n",
    "Enjoy!"
   ]
  },
  {
   "cell_type": "markdown",
   "metadata": {},
   "source": [
    "## Terms Used:\n",
    "left_link_names : names of items in the left nav-bar\n",
    "\n",
    "right_link_names : names of items in the right nav-bar\n",
    "\n",
    "site_name : name of the Web Site"
   ]
  },
  {
   "cell_type": "markdown",
   "metadata": {},
   "source": [
    "## Interactive Wizard:\n",
    "\n",
    "<pre>\n",
    "\n",
    "# Interactive Wizard - START\n",
    "number_of_links = input(\"Please enter the number of items in your navbar: \")\n",
    "\n",
    "number_of_left_links = input(\"Please enter how many of the \" + number_of_links + \" is in the left navbar: \")\n",
    "\n",
    "number_of_links = int(number_of_links)\n",
    "number_of_left_links = int(number_of_left_links)\n",
    "number_of_right_links = number_of_links - number_of_left_links\n",
    "\n",
    "left_link_names = []\n",
    "right_link_names = []\n",
    "site_name = \"\"\n",
    "\n",
    "for i in range(0, number_of_left_links):\n",
    "    value = input(\"Please enter the \" + str(i + 1) + \"th left nav item: \")\n",
    "    left_link_names.append(value)\n",
    "\n",
    "\n",
    "\n",
    "for i in range(0, number_of_right_links):\n",
    "    value = input(\"Please enter the \" + str(i + 1) + \"th left nav item: \")\n",
    "    right_link_names.append(value)\n",
    "\n",
    "\n",
    "site_name = input(\"Please enter the name of your site: \")\n",
    "\n",
    "# Interactive Wizard - END\n",
    "\n",
    "</pre>"
   ]
  },
  {
   "cell_type": "markdown",
   "metadata": {},
   "source": [
    "For any queries or troubleshooting issues feel free to message us [at](ratul_shams@yahoo.com) ratul_shams@yahoo.com with the subject:\n",
    "\n",
    "> Subject: Bootplater - [Insert Subject here]\n",
    "\n",
    "Any suggestions, feedback, comments, queries are welcome.\n",
    "Do tell if you'd like additional features added.\n",
    "\n",
    "Feel free to share if you liked it. :')"
   ]
  },
  {
   "cell_type": "markdown",
   "metadata": {},
   "source": [
    "# Best wishes! \n",
    "\n",
    "## Created by - [Scarlet McLearn - RS](Ratul Shams)\n",
    "\n",
    "### Essence Primus"
   ]
  },
  {
   "cell_type": "code",
   "execution_count": null,
   "metadata": {
    "collapsed": true
   },
   "outputs": [],
   "source": []
  }
 ],
 "metadata": {
  "kernelspec": {
   "display_name": "Python 3",
   "language": "python",
   "name": "python3"
  },
  "language_info": {
   "codemirror_mode": {
    "name": "ipython",
    "version": 3
   },
   "file_extension": ".py",
   "mimetype": "text/x-python",
   "name": "python",
   "nbconvert_exporter": "python",
   "pygments_lexer": "ipython3",
   "version": "3.6.0"
  }
 },
 "nbformat": 4,
 "nbformat_minor": 2
}
