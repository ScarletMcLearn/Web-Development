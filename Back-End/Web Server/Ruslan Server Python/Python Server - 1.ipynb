{
 "cells": [
  {
   "cell_type": "markdown",
   "metadata": {},
   "source": [
    "import socket\n",
    "\n",
    "HOST, PORT = '', 8888\n",
    "\n",
    "listen_socket = socket.socket(socket.AF_INET, socket.SOCK_STREAM)\n",
    "listen_socket.setsockopt(socket.SOL_SOCKET, socket.SO_REUSEADDR, 1)\n",
    "listen_socket.bind((HOST, PORT))\n",
    "listen_socket.listen(1)\n",
    "print 'Serving HTTP on port %s ...' % PORT\n",
    "while True:\n",
    "    client_connection, client_address = listen_socket.accept()\n",
    "    request = client_connection.recv(1024)\n",
    "    print request\n",
    "\n",
    "    http_response = \"\"\"\\\n",
    "HTTP/1.1 200 OK\n",
    "\n",
    "Hello, World!\n",
    "\"\"\"\n",
    "    client_connection.sendall(http_response)\n",
    "    client_connection.close()"
   ]
  },
  {
   "cell_type": "code",
   "execution_count": 1,
   "metadata": {},
   "outputs": [],
   "source": [
    "import socket"
   ]
  },
  {
   "cell_type": "code",
   "execution_count": 6,
   "metadata": {},
   "outputs": [],
   "source": [
    "HOST = ''\n",
    "PORT = 8881"
   ]
  },
  {
   "cell_type": "code",
   "execution_count": 7,
   "metadata": {},
   "outputs": [],
   "source": [
    "listen_socket = socket.socket(socket.AF_INET, socket.SOCK_STREAM)"
   ]
  },
  {
   "cell_type": "code",
   "execution_count": 8,
   "metadata": {},
   "outputs": [],
   "source": [
    "listen_socket.setsockopt(socket.SOL_SOCKET, socket.SO_REUSEADDR, 1)"
   ]
  },
  {
   "cell_type": "code",
   "execution_count": 9,
   "metadata": {},
   "outputs": [],
   "source": [
    "listen_socket.bind((HOST, PORT))\n",
    "listen_socket.listen(1)"
   ]
  },
  {
   "cell_type": "code",
   "execution_count": null,
   "metadata": {},
   "outputs": [
    {
     "name": "stdout",
     "output_type": "stream",
     "text": [
      "Serving HTTP on port 8881 ...\n",
      "GET /hello HTTP/1.1\n",
      "Host: localhost:8881\n",
      "Connection: keep-alive\n",
      "User-Agent: Mozilla/5.0 (X11; Linux x86_64) AppleWebKit/537.36 (KHTML, like Gecko) Chrome/63.0.3239.84 Safari/537.36\n",
      "Upgrade-Insecure-Requests: 1\n",
      "Accept: text/html,application/xhtml+xml,application/xml;q=0.9,image/webp,image/apng,*/*;q=0.8\n",
      "DNT: 1\n",
      "Accept-Encoding: gzip, deflate, br\n",
      "Accept-Language: en-US,en;q=0.9\n",
      "Cookie: _xsrf=2|daa84d77|e8504a939a499a44d01b42bcbe597b73|1526572316; username-localhost-8888=\"2|1:0|10:1526572316|23:username-localhost-8888|44:NTY5M2IwNWQ5ODRmNDgwMzg2Zjc2YjVlNWE1NGVjMDc=|25bf5da4834d69382b0912316c025df411b7f284aea9349dfcece7dd90ffaea2\"\n",
      "\n",
      "\n",
      "GET /favicon.ico HTTP/1.1\n",
      "Host: localhost:8881\n",
      "Connection: keep-alive\n",
      "User-Agent: Mozilla/5.0 (X11; Linux x86_64) AppleWebKit/537.36 (KHTML, like Gecko) Chrome/63.0.3239.84 Safari/537.36\n",
      "Accept: image/webp,image/apng,image/*,*/*;q=0.8\n",
      "DNT: 1\n",
      "Referer: http://localhost:8881/hello\n",
      "Accept-Encoding: gzip, deflate, br\n",
      "Accept-Language: en-US,en;q=0.9\n",
      "Cookie: _xsrf=2|daa84d77|e8504a939a499a44d01b42bcbe597b73|1526572316; username-localhost-8888=\"2|1:0|10:1526572316|23:username-localhost-8888|44:NTY5M2IwNWQ5ODRmNDgwMzg2Zjc2YjVlNWE1NGVjMDc=|25bf5da4834d69382b0912316c025df411b7f284aea9349dfcece7dd90ffaea2\"\n",
      "\n",
      "\n"
     ]
    }
   ],
   "source": [
    "print 'Serving HTTP on port %s ...' % PORT\n",
    "while True:\n",
    "    client_connection, client_address = listen_socket.accept()\n",
    "    request = client_connection.recv(1024)\n",
    "    print request\n",
    "\n",
    "    http_response = \"\"\"\\\n",
    "HTTP/1.1 200 OK\n",
    "\n",
    "Hello, World!\n",
    "\"\"\"\n",
    "    client_connection.sendall(http_response)\n",
    "    client_connection.close()"
   ]
  },
  {
   "cell_type": "code",
   "execution_count": null,
   "metadata": {},
   "outputs": [],
   "source": []
  }
 ],
 "metadata": {
  "kernelspec": {
   "display_name": "Python 3",
   "language": "python",
   "name": "python3"
  },
  "language_info": {
   "codemirror_mode": {
    "name": "ipython",
    "version": 2
   },
   "file_extension": ".py",
   "mimetype": "text/x-python",
   "name": "python",
   "nbconvert_exporter": "python",
   "pygments_lexer": "ipython2",
   "version": "2.7.12"
  }
 },
 "nbformat": 4,
 "nbformat_minor": 2
}
